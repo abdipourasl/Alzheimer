{
  "nbformat": 4,
  "nbformat_minor": 0,
  "metadata": {
    "colab": {
      "provenance": [],
      "authorship_tag": "ABX9TyMb9ZLYD7g1PuxwifqlKDA6",
      "include_colab_link": true
    },
    "kernelspec": {
      "name": "python3",
      "display_name": "Python 3"
    },
    "language_info": {
      "name": "python"
    }
  },
  "cells": [
    {
      "cell_type": "markdown",
      "metadata": {
        "id": "view-in-github",
        "colab_type": "text"
      },
      "source": [
        "<a href=\"https://colab.research.google.com/github/abdipourasl/Alzheimer/blob/main/Alzheimer.ipynb\" target=\"_parent\"><img src=\"https://colab.research.google.com/assets/colab-badge.svg\" alt=\"Open In Colab\"/></a>"
      ]
    },
    {
      "cell_type": "markdown",
      "metadata": {
        "id": "lQPNR08rglpt"
      },
      "source": [
        "<div class=\"alert alert-block alert-success\">\n",
        "<h1>Reach Connectivity images with MNE Project<h1>\n",
        "Amin Abdipour</h1>\n",
        "</div>"
      ]
    },
    {
      "cell_type": "markdown",
      "source": [
        "# 1. Load data"
      ],
      "metadata": {
        "id": "b73M9cBvTNU9"
      }
    },
    {
      "cell_type": "code",
      "source": [
        "# from google_drive_downloader import GoogleDriveDownloader as gdd\n",
        "from google.colab import drive\n",
        "drive.mount('/content/drive')"
      ],
      "metadata": {
        "colab": {
          "base_uri": "https://localhost:8080/"
        },
        "id": "EiKIbhdXTH26",
        "outputId": "f4ed3110-9530-4777-d04f-b9146d5d7845"
      },
      "execution_count": 20,
      "outputs": [
        {
          "output_type": "stream",
          "name": "stdout",
          "text": [
            "Drive already mounted at /content/drive; to attempt to forcibly remount, call drive.mount(\"/content/drive\", force_remount=True).\n"
          ]
        }
      ]
    },
    {
      "cell_type": "code",
      "source": [
        "import os\n",
        "dir = os.path.join('/content/drive/My Drive/','Alzheimer','Epoched_EEGdata_Preprocessed_0.5H_1.mat')  # Path to the Data folder"
      ],
      "metadata": {
        "id": "IdtDBTdle_ue"
      },
      "execution_count": 21,
      "outputs": []
    },
    {
      "cell_type": "code",
      "source": [
        "import h5py\n",
        "\n",
        "with h5py.File(dir, 'r') as file:\n",
        "    eeg_class_dataset = file['EEG_Class']\n",
        "\n",
        "    # Extract EEG data for all subjects\n",
        "    eeg_data = eeg_class_dataset[:]\n"
      ],
      "metadata": {
        "colab": {
          "base_uri": "https://localhost:8080/"
        },
        "id": "vbnFLwxQhKS7",
        "outputId": "06064bb6-53e3-4f11-c5b8-5fd163355886"
      },
      "execution_count": 51,
      "outputs": [
        {
          "output_type": "stream",
          "name": "stderr",
          "text": [
            "ERROR:root:Unexpected exception finding object shape\n",
            "Traceback (most recent call last):\n",
            "  File \"/usr/local/lib/python3.10/dist-packages/google/colab/_debugpy_repr.py\", line 54, in get_shape\n",
            "    shape = getattr(obj, 'shape', None)\n",
            "  File \"/usr/local/lib/python3.10/dist-packages/h5py/_hl/dataset.py\", line 469, in shape\n",
            "    shape = self.id.shape\n",
            "  File \"h5py/h5d.pyx\", line 193, in h5py.h5d.DatasetID.shape.__get__\n",
            "  File \"h5py/h5d.pyx\", line 194, in h5py.h5d.DatasetID.shape.__get__\n",
            "  File \"h5py/_objects.pyx\", line 54, in h5py._objects.with_phil.wrapper\n",
            "  File \"h5py/_objects.pyx\", line 55, in h5py._objects.with_phil.wrapper\n",
            "  File \"h5py/h5d.pyx\", line 350, in h5py.h5d.DatasetID.get_space\n",
            "ValueError: Invalid dataset identifier (invalid dataset identifier)\n"
          ]
        }
      ]
    },
    {
      "cell_type": "code",
      "source": [
        "eeg_class_dataset"
      ],
      "metadata": {
        "colab": {
          "base_uri": "https://localhost:8080/"
        },
        "id": "xn_dffavlU9B",
        "outputId": "1e085341-1f97-4875-a97e-f6363b39536e"
      },
      "execution_count": 55,
      "outputs": [
        {
          "output_type": "stream",
          "name": "stderr",
          "text": [
            "ERROR:root:Unexpected exception finding object shape\n",
            "Traceback (most recent call last):\n",
            "  File \"/usr/local/lib/python3.10/dist-packages/google/colab/_debugpy_repr.py\", line 54, in get_shape\n",
            "    shape = getattr(obj, 'shape', None)\n",
            "  File \"/usr/local/lib/python3.10/dist-packages/h5py/_hl/dataset.py\", line 469, in shape\n",
            "    shape = self.id.shape\n",
            "  File \"h5py/h5d.pyx\", line 193, in h5py.h5d.DatasetID.shape.__get__\n",
            "  File \"h5py/h5d.pyx\", line 194, in h5py.h5d.DatasetID.shape.__get__\n",
            "  File \"h5py/_objects.pyx\", line 54, in h5py._objects.with_phil.wrapper\n",
            "  File \"h5py/_objects.pyx\", line 55, in h5py._objects.with_phil.wrapper\n",
            "  File \"h5py/h5d.pyx\", line 350, in h5py.h5d.DatasetID.get_space\n",
            "ValueError: Invalid dataset identifier (invalid dataset identifier)\n"
          ]
        },
        {
          "output_type": "execute_result",
          "data": {
            "text/plain": [
              "<Closed HDF5 dataset>"
            ]
          },
          "metadata": {},
          "execution_count": 55
        }
      ]
    },
    {
      "cell_type": "code",
      "source": [
        "pip install -U mne-connectivity"
      ],
      "metadata": {
        "colab": {
          "base_uri": "https://localhost:8080/"
        },
        "id": "01uAqOL_ocTi",
        "outputId": "e0921352-83cb-43f5-b571-5ddf92648dba"
      },
      "execution_count": 70,
      "outputs": [
        {
          "output_type": "stream",
          "name": "stderr",
          "text": [
            "ERROR:root:Unexpected exception finding object shape\n",
            "Traceback (most recent call last):\n",
            "  File \"/usr/local/lib/python3.10/dist-packages/google/colab/_debugpy_repr.py\", line 54, in get_shape\n",
            "    shape = getattr(obj, 'shape', None)\n",
            "  File \"/usr/local/lib/python3.10/dist-packages/h5py/_hl/dataset.py\", line 469, in shape\n",
            "    shape = self.id.shape\n",
            "  File \"h5py/h5d.pyx\", line 193, in h5py.h5d.DatasetID.shape.__get__\n",
            "  File \"h5py/h5d.pyx\", line 194, in h5py.h5d.DatasetID.shape.__get__\n",
            "  File \"h5py/_objects.pyx\", line 54, in h5py._objects.with_phil.wrapper\n",
            "  File \"h5py/_objects.pyx\", line 55, in h5py._objects.with_phil.wrapper\n",
            "  File \"h5py/h5d.pyx\", line 350, in h5py.h5d.DatasetID.get_space\n",
            "ValueError: Invalid dataset identifier (invalid dataset identifier)\n"
          ]
        },
        {
          "output_type": "stream",
          "name": "stdout",
          "text": [
            "Requirement already satisfied: mne-connectivity in /usr/local/lib/python3.10/dist-packages (0.6.0)\n",
            "Requirement already satisfied: mne>=1.6 in /usr/local/lib/python3.10/dist-packages (from mne-connectivity) (1.7.0)\n",
            "Requirement already satisfied: netCDF4>=1.6.5 in /usr/local/lib/python3.10/dist-packages (from mne-connectivity) (1.6.5)\n",
            "Requirement already satisfied: numpy>=1.21 in /usr/local/lib/python3.10/dist-packages (from mne-connectivity) (1.25.2)\n",
            "Requirement already satisfied: pandas>=1.3.2 in /usr/local/lib/python3.10/dist-packages (from mne-connectivity) (2.0.3)\n",
            "Requirement already satisfied: scipy>=1.4.0 in /usr/local/lib/python3.10/dist-packages (from mne-connectivity) (1.11.4)\n",
            "Requirement already satisfied: tqdm in /usr/local/lib/python3.10/dist-packages (from mne-connectivity) (4.66.4)\n",
            "Requirement already satisfied: xarray>=2023.11.0 in /usr/local/lib/python3.10/dist-packages (from mne-connectivity) (2024.3.0)\n",
            "Requirement already satisfied: decorator in /usr/local/lib/python3.10/dist-packages (from mne>=1.6->mne-connectivity) (4.4.2)\n",
            "Requirement already satisfied: jinja2 in /usr/local/lib/python3.10/dist-packages (from mne>=1.6->mne-connectivity) (3.1.4)\n",
            "Requirement already satisfied: lazy-loader>=0.3 in /usr/local/lib/python3.10/dist-packages (from mne>=1.6->mne-connectivity) (0.4)\n",
            "Requirement already satisfied: matplotlib>=3.5.0 in /usr/local/lib/python3.10/dist-packages (from mne>=1.6->mne-connectivity) (3.7.1)\n",
            "Requirement already satisfied: packaging in /usr/local/lib/python3.10/dist-packages (from mne>=1.6->mne-connectivity) (24.0)\n",
            "Requirement already satisfied: pooch>=1.5 in /usr/local/lib/python3.10/dist-packages (from mne>=1.6->mne-connectivity) (1.8.1)\n",
            "Requirement already satisfied: cftime in /usr/local/lib/python3.10/dist-packages (from netCDF4>=1.6.5->mne-connectivity) (1.6.3)\n",
            "Requirement already satisfied: certifi in /usr/local/lib/python3.10/dist-packages (from netCDF4>=1.6.5->mne-connectivity) (2024.2.2)\n",
            "Requirement already satisfied: python-dateutil>=2.8.2 in /usr/local/lib/python3.10/dist-packages (from pandas>=1.3.2->mne-connectivity) (2.8.2)\n",
            "Requirement already satisfied: pytz>=2020.1 in /usr/local/lib/python3.10/dist-packages (from pandas>=1.3.2->mne-connectivity) (2023.4)\n",
            "Requirement already satisfied: tzdata>=2022.1 in /usr/local/lib/python3.10/dist-packages (from pandas>=1.3.2->mne-connectivity) (2024.1)\n",
            "Requirement already satisfied: contourpy>=1.0.1 in /usr/local/lib/python3.10/dist-packages (from matplotlib>=3.5.0->mne>=1.6->mne-connectivity) (1.2.1)\n",
            "Requirement already satisfied: cycler>=0.10 in /usr/local/lib/python3.10/dist-packages (from matplotlib>=3.5.0->mne>=1.6->mne-connectivity) (0.12.1)\n",
            "Requirement already satisfied: fonttools>=4.22.0 in /usr/local/lib/python3.10/dist-packages (from matplotlib>=3.5.0->mne>=1.6->mne-connectivity) (4.51.0)\n",
            "Requirement already satisfied: kiwisolver>=1.0.1 in /usr/local/lib/python3.10/dist-packages (from matplotlib>=3.5.0->mne>=1.6->mne-connectivity) (1.4.5)\n",
            "Requirement already satisfied: pillow>=6.2.0 in /usr/local/lib/python3.10/dist-packages (from matplotlib>=3.5.0->mne>=1.6->mne-connectivity) (9.4.0)\n",
            "Requirement already satisfied: pyparsing>=2.3.1 in /usr/local/lib/python3.10/dist-packages (from matplotlib>=3.5.0->mne>=1.6->mne-connectivity) (3.1.2)\n",
            "Requirement already satisfied: platformdirs>=2.5.0 in /usr/local/lib/python3.10/dist-packages (from pooch>=1.5->mne>=1.6->mne-connectivity) (4.2.1)\n",
            "Requirement already satisfied: requests>=2.19.0 in /usr/local/lib/python3.10/dist-packages (from pooch>=1.5->mne>=1.6->mne-connectivity) (2.31.0)\n",
            "Requirement already satisfied: six>=1.5 in /usr/local/lib/python3.10/dist-packages (from python-dateutil>=2.8.2->pandas>=1.3.2->mne-connectivity) (1.16.0)\n",
            "Requirement already satisfied: MarkupSafe>=2.0 in /usr/local/lib/python3.10/dist-packages (from jinja2->mne>=1.6->mne-connectivity) (2.1.5)\n",
            "Requirement already satisfied: charset-normalizer<4,>=2 in /usr/local/lib/python3.10/dist-packages (from requests>=2.19.0->pooch>=1.5->mne>=1.6->mne-connectivity) (3.3.2)\n",
            "Requirement already satisfied: idna<4,>=2.5 in /usr/local/lib/python3.10/dist-packages (from requests>=2.19.0->pooch>=1.5->mne>=1.6->mne-connectivity) (3.7)\n",
            "Requirement already satisfied: urllib3<3,>=1.21.1 in /usr/local/lib/python3.10/dist-packages (from requests>=2.19.0->pooch>=1.5->mne>=1.6->mne-connectivity) (2.0.7)\n"
          ]
        }
      ]
    },
    {
      "cell_type": "code",
      "source": [
        "import numpy as np\n",
        "import scipy.io\n",
        "import matplotlib.pyplot as plt\n",
        "import os\n",
        "from mne_connectivity import Connectivity\n",
        "\n",
        "# Path to the EEG data file\n",
        "dir = os.path.join('/content/drive/My Drive/', 'Alzheimer', 'EEG1.mat')\n",
        "\n",
        "# Load EEG data from .mat file\n",
        "data = scipy.io.loadmat(dir)\n",
        "eeg_data = data['EEG1']  # Assuming your EEG data is stored as 'EEG1' in the .mat file\n",
        "\n",
        "# Transpose EEG data to match the expected format: epochs, channels, samples\n",
        "eeg_data = np.transpose(eeg_data, (2, 0, 1))\n",
        "\n",
        "# Define parameters\n",
        "channels = ['Fp1', 'Fp2', 'F3', 'F4', 'C3', 'C4', 'P3', 'P4', 'O1', 'O2', 'F7', 'F8', 'T3', 'T4', 'T5', 'T6', 'Fz', 'Cz', 'Pz']\n",
        "n_channels = len(channels)  # Number of channels\n",
        "n_epochs = eeg_data.shape[0]  # Number of epochs\n",
        "sfreq = 250  # Sampling frequency\n",
        "\n",
        "# Create Connectivity object\n",
        "con = Connectivity(data=eeg_data, n_nodes=n_channels, names=channels, frequencies=np.arange(7, 30, 2), method='imcoh')\n",
        "\n",
        "# Compute connectivity\n",
        "con.compute()\n",
        "\n",
        "# Plot and save connectivity images\n",
        "plt.figure()\n",
        "con.plot(title='Imaginary Coherence Connectivity', xlabel='Channels', ylabel='Channels', vmin=0, vmax=1, cmap='viridis')\n",
        "plt.savefig('connectivity_image.png')\n",
        "plt.show()\n"
      ],
      "metadata": {
        "colab": {
          "base_uri": "https://localhost:8080/",
          "height": 587
        },
        "id": "rcNGbOB9mYIc",
        "outputId": "e3b14fd8-2f5a-411d-95b1-9ab0ac4f602f"
      },
      "execution_count": 79,
      "outputs": [
        {
          "output_type": "stream",
          "name": "stderr",
          "text": [
            "ERROR:root:Unexpected exception finding object shape\n",
            "Traceback (most recent call last):\n",
            "  File \"/usr/local/lib/python3.10/dist-packages/google/colab/_debugpy_repr.py\", line 54, in get_shape\n",
            "    shape = getattr(obj, 'shape', None)\n",
            "  File \"/usr/local/lib/python3.10/dist-packages/h5py/_hl/dataset.py\", line 469, in shape\n",
            "    shape = self.id.shape\n",
            "  File \"h5py/h5d.pyx\", line 193, in h5py.h5d.DatasetID.shape.__get__\n",
            "  File \"h5py/h5d.pyx\", line 194, in h5py.h5d.DatasetID.shape.__get__\n",
            "  File \"h5py/_objects.pyx\", line 54, in h5py._objects.with_phil.wrapper\n",
            "  File \"h5py/_objects.pyx\", line 55, in h5py._objects.with_phil.wrapper\n",
            "  File \"h5py/h5d.pyx\", line 350, in h5py.h5d.DatasetID.get_space\n",
            "ValueError: Invalid dataset identifier (invalid dataset identifier)\n"
          ]
        },
        {
          "output_type": "error",
          "ename": "ValueError",
          "evalue": "different number of dimensions on data and dims: 3 vs 1",
          "traceback": [
            "\u001b[0;31m---------------------------------------------------------------------------\u001b[0m",
            "\u001b[0;31mValueError\u001b[0m                                Traceback (most recent call last)",
            "\u001b[0;32m<ipython-input-79-b3587281b680>\u001b[0m in \u001b[0;36m<cell line: 24>\u001b[0;34m()\u001b[0m\n\u001b[1;32m     22\u001b[0m \u001b[0;34m\u001b[0m\u001b[0m\n\u001b[1;32m     23\u001b[0m \u001b[0;31m# Create Connectivity object\u001b[0m\u001b[0;34m\u001b[0m\u001b[0;34m\u001b[0m\u001b[0m\n\u001b[0;32m---> 24\u001b[0;31m \u001b[0mcon\u001b[0m \u001b[0;34m=\u001b[0m \u001b[0mConnectivity\u001b[0m\u001b[0;34m(\u001b[0m\u001b[0mdata\u001b[0m\u001b[0;34m=\u001b[0m\u001b[0meeg_data\u001b[0m\u001b[0;34m,\u001b[0m \u001b[0mn_nodes\u001b[0m\u001b[0;34m=\u001b[0m\u001b[0mn_channels\u001b[0m\u001b[0;34m,\u001b[0m \u001b[0mnames\u001b[0m\u001b[0;34m=\u001b[0m\u001b[0mchannels\u001b[0m\u001b[0;34m,\u001b[0m \u001b[0mfrequencies\u001b[0m\u001b[0;34m=\u001b[0m\u001b[0mnp\u001b[0m\u001b[0;34m.\u001b[0m\u001b[0marange\u001b[0m\u001b[0;34m(\u001b[0m\u001b[0;36m7\u001b[0m\u001b[0;34m,\u001b[0m \u001b[0;36m30\u001b[0m\u001b[0;34m,\u001b[0m \u001b[0;36m2\u001b[0m\u001b[0;34m)\u001b[0m\u001b[0;34m,\u001b[0m \u001b[0mmethod\u001b[0m\u001b[0;34m=\u001b[0m\u001b[0;34m'imcoh'\u001b[0m\u001b[0;34m)\u001b[0m\u001b[0;34m\u001b[0m\u001b[0;34m\u001b[0m\u001b[0m\n\u001b[0m\u001b[1;32m     25\u001b[0m \u001b[0;34m\u001b[0m\u001b[0m\n\u001b[1;32m     26\u001b[0m \u001b[0;31m# Compute connectivity\u001b[0m\u001b[0;34m\u001b[0m\u001b[0;34m\u001b[0m\u001b[0m\n",
            "\u001b[0;32m/usr/local/lib/python3.10/dist-packages/mne_connectivity/base.py\u001b[0m in \u001b[0;36m__init__\u001b[0;34m(self, data, n_nodes, names, indices, method, n_epochs_used, **kwargs)\u001b[0m\n\u001b[1;32m   1211\u001b[0m         \u001b[0;34m**\u001b[0m\u001b[0mkwargs\u001b[0m\u001b[0;34m,\u001b[0m\u001b[0;34m\u001b[0m\u001b[0;34m\u001b[0m\u001b[0m\n\u001b[1;32m   1212\u001b[0m     ):\n\u001b[0;32m-> 1213\u001b[0;31m         super(Connectivity, self).__init__(\n\u001b[0m\u001b[1;32m   1214\u001b[0m             \u001b[0mdata\u001b[0m\u001b[0;34m,\u001b[0m\u001b[0;34m\u001b[0m\u001b[0;34m\u001b[0m\u001b[0m\n\u001b[1;32m   1215\u001b[0m             \u001b[0mnames\u001b[0m\u001b[0;34m=\u001b[0m\u001b[0mnames\u001b[0m\u001b[0;34m,\u001b[0m\u001b[0;34m\u001b[0m\u001b[0;34m\u001b[0m\u001b[0m\n",
            "\u001b[0;32m/usr/local/lib/python3.10/dist-packages/mne_connectivity/base.py\u001b[0m in \u001b[0;36m__init__\u001b[0;34m(self, data, names, indices, method, n_nodes, events, event_id, metadata, **kwargs)\u001b[0m\n\u001b[1;32m    434\u001b[0m         \u001b[0;31m# check the incoming data structure\u001b[0m\u001b[0;34m\u001b[0m\u001b[0;34m\u001b[0m\u001b[0m\n\u001b[1;32m    435\u001b[0m         \u001b[0mself\u001b[0m\u001b[0;34m.\u001b[0m\u001b[0m_check_data_consistency\u001b[0m\u001b[0;34m(\u001b[0m\u001b[0mdata\u001b[0m\u001b[0;34m,\u001b[0m \u001b[0mindices\u001b[0m\u001b[0;34m=\u001b[0m\u001b[0mindices\u001b[0m\u001b[0;34m,\u001b[0m \u001b[0mn_nodes\u001b[0m\u001b[0;34m=\u001b[0m\u001b[0mn_nodes\u001b[0m\u001b[0;34m)\u001b[0m\u001b[0;34m\u001b[0m\u001b[0;34m\u001b[0m\u001b[0m\n\u001b[0;32m--> 436\u001b[0;31m         self._prepare_xarray(\n\u001b[0m\u001b[1;32m    437\u001b[0m             \u001b[0mdata\u001b[0m\u001b[0;34m,\u001b[0m\u001b[0;34m\u001b[0m\u001b[0;34m\u001b[0m\u001b[0m\n\u001b[1;32m    438\u001b[0m             \u001b[0mnames\u001b[0m\u001b[0;34m=\u001b[0m\u001b[0mnames\u001b[0m\u001b[0;34m,\u001b[0m\u001b[0;34m\u001b[0m\u001b[0;34m\u001b[0m\u001b[0m\n",
            "\u001b[0;32m/usr/local/lib/python3.10/dist-packages/mne_connectivity/base.py\u001b[0m in \u001b[0;36m_prepare_xarray\u001b[0;34m(self, data, names, indices, n_nodes, method, events, event_id, **kwargs)\u001b[0m\n\u001b[1;32m    529\u001b[0m \u001b[0;34m\u001b[0m\u001b[0m\n\u001b[1;32m    530\u001b[0m         \u001b[0;31m# create xarray object\u001b[0m\u001b[0;34m\u001b[0m\u001b[0;34m\u001b[0m\u001b[0m\n\u001b[0;32m--> 531\u001b[0;31m         \u001b[0mxarray_obj\u001b[0m \u001b[0;34m=\u001b[0m \u001b[0mxr\u001b[0m\u001b[0;34m.\u001b[0m\u001b[0mDataArray\u001b[0m\u001b[0;34m(\u001b[0m\u001b[0mdata\u001b[0m\u001b[0;34m=\u001b[0m\u001b[0mdata\u001b[0m\u001b[0;34m,\u001b[0m \u001b[0mcoords\u001b[0m\u001b[0;34m=\u001b[0m\u001b[0mcoords\u001b[0m\u001b[0;34m,\u001b[0m \u001b[0mdims\u001b[0m\u001b[0;34m=\u001b[0m\u001b[0mdims\u001b[0m\u001b[0;34m,\u001b[0m \u001b[0mattrs\u001b[0m\u001b[0;34m=\u001b[0m\u001b[0mkwargs\u001b[0m\u001b[0;34m)\u001b[0m\u001b[0;34m\u001b[0m\u001b[0;34m\u001b[0m\u001b[0m\n\u001b[0m\u001b[1;32m    532\u001b[0m         \u001b[0mself\u001b[0m\u001b[0;34m.\u001b[0m\u001b[0m_obj\u001b[0m \u001b[0;34m=\u001b[0m \u001b[0mxarray_obj\u001b[0m\u001b[0;34m\u001b[0m\u001b[0;34m\u001b[0m\u001b[0m\n\u001b[1;32m    533\u001b[0m \u001b[0;34m\u001b[0m\u001b[0m\n",
            "\u001b[0;32m/usr/local/lib/python3.10/dist-packages/xarray/core/dataarray.py\u001b[0m in \u001b[0;36m__init__\u001b[0;34m(self, data, coords, dims, name, attrs, indexes, fastpath)\u001b[0m\n\u001b[1;32m    452\u001b[0m             \u001b[0mdata\u001b[0m \u001b[0;34m=\u001b[0m \u001b[0m_check_data_shape\u001b[0m\u001b[0;34m(\u001b[0m\u001b[0mdata\u001b[0m\u001b[0;34m,\u001b[0m \u001b[0mcoords\u001b[0m\u001b[0;34m,\u001b[0m \u001b[0mdims\u001b[0m\u001b[0;34m)\u001b[0m\u001b[0;34m\u001b[0m\u001b[0;34m\u001b[0m\u001b[0m\n\u001b[1;32m    453\u001b[0m             \u001b[0mdata\u001b[0m \u001b[0;34m=\u001b[0m \u001b[0mas_compatible_data\u001b[0m\u001b[0;34m(\u001b[0m\u001b[0mdata\u001b[0m\u001b[0;34m)\u001b[0m\u001b[0;34m\u001b[0m\u001b[0;34m\u001b[0m\u001b[0m\n\u001b[0;32m--> 454\u001b[0;31m             \u001b[0mcoords\u001b[0m\u001b[0;34m,\u001b[0m \u001b[0mdims\u001b[0m \u001b[0;34m=\u001b[0m \u001b[0m_infer_coords_and_dims\u001b[0m\u001b[0;34m(\u001b[0m\u001b[0mdata\u001b[0m\u001b[0;34m.\u001b[0m\u001b[0mshape\u001b[0m\u001b[0;34m,\u001b[0m \u001b[0mcoords\u001b[0m\u001b[0;34m,\u001b[0m \u001b[0mdims\u001b[0m\u001b[0;34m)\u001b[0m\u001b[0;34m\u001b[0m\u001b[0;34m\u001b[0m\u001b[0m\n\u001b[0m\u001b[1;32m    455\u001b[0m             \u001b[0mvariable\u001b[0m \u001b[0;34m=\u001b[0m \u001b[0mVariable\u001b[0m\u001b[0;34m(\u001b[0m\u001b[0mdims\u001b[0m\u001b[0;34m,\u001b[0m \u001b[0mdata\u001b[0m\u001b[0;34m,\u001b[0m \u001b[0mattrs\u001b[0m\u001b[0;34m,\u001b[0m \u001b[0mfastpath\u001b[0m\u001b[0;34m=\u001b[0m\u001b[0;32mTrue\u001b[0m\u001b[0;34m)\u001b[0m\u001b[0;34m\u001b[0m\u001b[0;34m\u001b[0m\u001b[0m\n\u001b[1;32m    456\u001b[0m \u001b[0;34m\u001b[0m\u001b[0m\n",
            "\u001b[0;32m/usr/local/lib/python3.10/dist-packages/xarray/core/dataarray.py\u001b[0m in \u001b[0;36m_infer_coords_and_dims\u001b[0;34m(shape, coords, dims)\u001b[0m\n\u001b[1;32m    166\u001b[0m     \u001b[0mdims_tuple\u001b[0m \u001b[0;34m=\u001b[0m \u001b[0mtuple\u001b[0m\u001b[0;34m(\u001b[0m\u001b[0mdims\u001b[0m\u001b[0;34m)\u001b[0m\u001b[0;34m\u001b[0m\u001b[0;34m\u001b[0m\u001b[0m\n\u001b[1;32m    167\u001b[0m     \u001b[0;32mif\u001b[0m \u001b[0mlen\u001b[0m\u001b[0;34m(\u001b[0m\u001b[0mdims_tuple\u001b[0m\u001b[0;34m)\u001b[0m \u001b[0;34m!=\u001b[0m \u001b[0mlen\u001b[0m\u001b[0;34m(\u001b[0m\u001b[0mshape\u001b[0m\u001b[0;34m)\u001b[0m\u001b[0;34m:\u001b[0m\u001b[0;34m\u001b[0m\u001b[0;34m\u001b[0m\u001b[0m\n\u001b[0;32m--> 168\u001b[0;31m         raise ValueError(\n\u001b[0m\u001b[1;32m    169\u001b[0m             \u001b[0;34m\"different number of dimensions on data \"\u001b[0m\u001b[0;34m\u001b[0m\u001b[0;34m\u001b[0m\u001b[0m\n\u001b[1;32m    170\u001b[0m             \u001b[0;34mf\"and dims: {len(shape)} vs {len(dims_tuple)}\"\u001b[0m\u001b[0;34m\u001b[0m\u001b[0;34m\u001b[0m\u001b[0m\n",
            "\u001b[0;31mValueError\u001b[0m: different number of dimensions on data and dims: 3 vs 1"
          ]
        }
      ]
    },
    {
      "cell_type": "markdown",
      "source": [
        "# 2. imCoh Connectivity"
      ],
      "metadata": {
        "id": "TMMIfm6PhjRD"
      }
    },
    {
      "cell_type": "code",
      "source": [
        "pip install mne"
      ],
      "metadata": {
        "colab": {
          "base_uri": "https://localhost:8080/"
        },
        "id": "We2p7BOpheZQ",
        "outputId": "b8b58aea-b819-42f3-f280-2adf783d042f"
      },
      "execution_count": 40,
      "outputs": [
        {
          "output_type": "stream",
          "name": "stderr",
          "text": [
            "ERROR:root:Unexpected exception finding object shape\n",
            "Traceback (most recent call last):\n",
            "  File \"/usr/local/lib/python3.10/dist-packages/google/colab/_debugpy_repr.py\", line 54, in get_shape\n",
            "    shape = getattr(obj, 'shape', None)\n",
            "  File \"/usr/local/lib/python3.10/dist-packages/h5py/_hl/dataset.py\", line 469, in shape\n",
            "    shape = self.id.shape\n",
            "  File \"h5py/h5d.pyx\", line 193, in h5py.h5d.DatasetID.shape.__get__\n",
            "  File \"h5py/h5d.pyx\", line 194, in h5py.h5d.DatasetID.shape.__get__\n",
            "  File \"h5py/_objects.pyx\", line 54, in h5py._objects.with_phil.wrapper\n",
            "  File \"h5py/_objects.pyx\", line 55, in h5py._objects.with_phil.wrapper\n",
            "  File \"h5py/h5d.pyx\", line 350, in h5py.h5d.DatasetID.get_space\n",
            "ValueError: Invalid dataset identifier (invalid dataset identifier)\n"
          ]
        },
        {
          "output_type": "stream",
          "name": "stdout",
          "text": [
            "Collecting mne\n",
            "  Downloading mne-1.7.0-py3-none-any.whl (7.4 MB)\n",
            "\u001b[?25l     \u001b[90m━━━━━━━━━━━━━━━━━━━━━━━━━━━━━━━━━━━━━━━━\u001b[0m \u001b[32m0.0/7.4 MB\u001b[0m \u001b[31m?\u001b[0m eta \u001b[36m-:--:--\u001b[0m\r\u001b[2K     \u001b[91m━\u001b[0m\u001b[90m╺\u001b[0m\u001b[90m━━━━━━━━━━━━━━━━━━━━━━━━━━━━━━━━━━━━━━\u001b[0m \u001b[32m0.2/7.4 MB\u001b[0m \u001b[31m5.9 MB/s\u001b[0m eta \u001b[36m0:00:02\u001b[0m\r\u001b[2K     \u001b[91m━━━\u001b[0m\u001b[90m╺\u001b[0m\u001b[90m━━━━━━━━━━━━━━━━━━━━━━━━━━━━━━━━━━━━\u001b[0m \u001b[32m0.6/7.4 MB\u001b[0m \u001b[31m8.8 MB/s\u001b[0m eta \u001b[36m0:00:01\u001b[0m\r\u001b[2K     \u001b[91m━━━━━━\u001b[0m\u001b[90m╺\u001b[0m\u001b[90m━━━━━━━━━━━━━━━━━━━━━━━━━━━━━━━━━\u001b[0m \u001b[32m1.1/7.4 MB\u001b[0m \u001b[31m10.9 MB/s\u001b[0m eta \u001b[36m0:00:01\u001b[0m\r\u001b[2K     \u001b[91m━━━━━━━━━\u001b[0m\u001b[91m╸\u001b[0m\u001b[90m━━━━━━━━━━━━━━━━━━━━━━━━━━━━━━\u001b[0m \u001b[32m1.8/7.4 MB\u001b[0m \u001b[31m12.8 MB/s\u001b[0m eta \u001b[36m0:00:01\u001b[0m\r\u001b[2K     \u001b[91m━━━━━━━━━━━━━━\u001b[0m\u001b[90m╺\u001b[0m\u001b[90m━━━━━━━━━━━━━━━━━━━━━━━━━\u001b[0m \u001b[32m2.6/7.4 MB\u001b[0m \u001b[31m14.8 MB/s\u001b[0m eta \u001b[36m0:00:01\u001b[0m\r\u001b[2K     \u001b[91m━━━━━━━━━━━━━━━━━━━\u001b[0m\u001b[91m╸\u001b[0m\u001b[90m━━━━━━━━━━━━━━━━━━━━\u001b[0m \u001b[32m3.7/7.4 MB\u001b[0m \u001b[31m17.3 MB/s\u001b[0m eta \u001b[36m0:00:01\u001b[0m\r\u001b[2K     \u001b[91m━━━━━━━━━━━━━━━━━━━━━━━━━━\u001b[0m\u001b[91m╸\u001b[0m\u001b[90m━━━━━━━━━━━━━\u001b[0m \u001b[32m5.0/7.4 MB\u001b[0m \u001b[31m20.1 MB/s\u001b[0m eta \u001b[36m0:00:01\u001b[0m\r\u001b[2K     \u001b[91m━━━━━━━━━━━━━━━━━━━━━━━━━━━━━━━━━━━\u001b[0m\u001b[91m╸\u001b[0m\u001b[90m━━━━\u001b[0m \u001b[32m6.6/7.4 MB\u001b[0m \u001b[31m23.2 MB/s\u001b[0m eta \u001b[36m0:00:01\u001b[0m\r\u001b[2K     \u001b[91m━━━━━━━━━━━━━━━━━━━━━━━━━━━━━━━━━━━━━━━\u001b[0m\u001b[91m╸\u001b[0m \u001b[32m7.4/7.4 MB\u001b[0m \u001b[31m24.7 MB/s\u001b[0m eta \u001b[36m0:00:01\u001b[0m\r\u001b[2K     \u001b[90m━━━━━━━━━━━━━━━━━━━━━━━━━━━━━━━━━━━━━━━━\u001b[0m \u001b[32m7.4/7.4 MB\u001b[0m \u001b[31m20.7 MB/s\u001b[0m eta \u001b[36m0:00:00\u001b[0m\n",
            "\u001b[?25hRequirement already satisfied: decorator in /usr/local/lib/python3.10/dist-packages (from mne) (4.4.2)\n",
            "Requirement already satisfied: jinja2 in /usr/local/lib/python3.10/dist-packages (from mne) (3.1.4)\n",
            "Requirement already satisfied: lazy-loader>=0.3 in /usr/local/lib/python3.10/dist-packages (from mne) (0.4)\n",
            "Requirement already satisfied: matplotlib>=3.5.0 in /usr/local/lib/python3.10/dist-packages (from mne) (3.7.1)\n",
            "Requirement already satisfied: numpy>=1.21.2 in /usr/local/lib/python3.10/dist-packages (from mne) (1.25.2)\n",
            "Requirement already satisfied: packaging in /usr/local/lib/python3.10/dist-packages (from mne) (24.0)\n",
            "Requirement already satisfied: pooch>=1.5 in /usr/local/lib/python3.10/dist-packages (from mne) (1.8.1)\n",
            "Requirement already satisfied: scipy>=1.7.1 in /usr/local/lib/python3.10/dist-packages (from mne) (1.11.4)\n",
            "Requirement already satisfied: tqdm in /usr/local/lib/python3.10/dist-packages (from mne) (4.66.4)\n",
            "Requirement already satisfied: contourpy>=1.0.1 in /usr/local/lib/python3.10/dist-packages (from matplotlib>=3.5.0->mne) (1.2.1)\n",
            "Requirement already satisfied: cycler>=0.10 in /usr/local/lib/python3.10/dist-packages (from matplotlib>=3.5.0->mne) (0.12.1)\n",
            "Requirement already satisfied: fonttools>=4.22.0 in /usr/local/lib/python3.10/dist-packages (from matplotlib>=3.5.0->mne) (4.51.0)\n",
            "Requirement already satisfied: kiwisolver>=1.0.1 in /usr/local/lib/python3.10/dist-packages (from matplotlib>=3.5.0->mne) (1.4.5)\n",
            "Requirement already satisfied: pillow>=6.2.0 in /usr/local/lib/python3.10/dist-packages (from matplotlib>=3.5.0->mne) (9.4.0)\n",
            "Requirement already satisfied: pyparsing>=2.3.1 in /usr/local/lib/python3.10/dist-packages (from matplotlib>=3.5.0->mne) (3.1.2)\n",
            "Requirement already satisfied: python-dateutil>=2.7 in /usr/local/lib/python3.10/dist-packages (from matplotlib>=3.5.0->mne) (2.8.2)\n",
            "Requirement already satisfied: platformdirs>=2.5.0 in /usr/local/lib/python3.10/dist-packages (from pooch>=1.5->mne) (4.2.1)\n",
            "Requirement already satisfied: requests>=2.19.0 in /usr/local/lib/python3.10/dist-packages (from pooch>=1.5->mne) (2.31.0)\n",
            "Requirement already satisfied: MarkupSafe>=2.0 in /usr/local/lib/python3.10/dist-packages (from jinja2->mne) (2.1.5)\n",
            "Requirement already satisfied: six>=1.5 in /usr/local/lib/python3.10/dist-packages (from python-dateutil>=2.7->matplotlib>=3.5.0->mne) (1.16.0)\n",
            "Requirement already satisfied: charset-normalizer<4,>=2 in /usr/local/lib/python3.10/dist-packages (from requests>=2.19.0->pooch>=1.5->mne) (3.3.2)\n",
            "Requirement already satisfied: idna<4,>=2.5 in /usr/local/lib/python3.10/dist-packages (from requests>=2.19.0->pooch>=1.5->mne) (3.7)\n",
            "Requirement already satisfied: urllib3<3,>=1.21.1 in /usr/local/lib/python3.10/dist-packages (from requests>=2.19.0->pooch>=1.5->mne) (2.0.7)\n",
            "Requirement already satisfied: certifi>=2017.4.17 in /usr/local/lib/python3.10/dist-packages (from requests>=2.19.0->pooch>=1.5->mne) (2024.2.2)\n"
          ]
        },
        {
          "output_type": "stream",
          "name": "stderr",
          "text": [
            "ERROR:root:Unexpected exception finding object shape\n",
            "Traceback (most recent call last):\n",
            "  File \"/usr/local/lib/python3.10/dist-packages/google/colab/_debugpy_repr.py\", line 54, in get_shape\n",
            "    shape = getattr(obj, 'shape', None)\n",
            "  File \"/usr/local/lib/python3.10/dist-packages/h5py/_hl/dataset.py\", line 469, in shape\n",
            "    shape = self.id.shape\n",
            "  File \"h5py/h5d.pyx\", line 193, in h5py.h5d.DatasetID.shape.__get__\n",
            "  File \"h5py/h5d.pyx\", line 194, in h5py.h5d.DatasetID.shape.__get__\n",
            "  File \"h5py/_objects.pyx\", line 54, in h5py._objects.with_phil.wrapper\n",
            "  File \"h5py/_objects.pyx\", line 55, in h5py._objects.with_phil.wrapper\n",
            "  File \"h5py/h5d.pyx\", line 350, in h5py.h5d.DatasetID.get_space\n",
            "ValueError: Invalid dataset identifier (invalid dataset identifier)\n"
          ]
        },
        {
          "output_type": "stream",
          "name": "stdout",
          "text": [
            "Installing collected packages: mne\n",
            "Successfully installed mne-1.7.0\n"
          ]
        }
      ]
    },
    {
      "cell_type": "code",
      "source": [
        "import h5py\n",
        "\n",
        "# Load EEG data from .mat file using h5py\n",
        "# mat_file_path = 'EEG_data.mat'\n",
        "with h5py.File(dir, 'r') as file:\n",
        "    try:\n",
        "        eeg_class_dataset = file['EEG_Class']\n",
        "        print(\"Dataset Info:\")\n",
        "        print(\"Dataset Type:\", type(eeg_class_dataset))\n",
        "        print(\"Dataset Shape:\", eeg_class_dataset.shape)\n",
        "        print(\"Dataset dtype:\", eeg_class_dataset.dtype)\n",
        "        print(\"Dataset Value:\", eeg_class_dataset[:10])  # Print a slice of dataset values\n",
        "    except ValueError as e:\n",
        "        print(\"Error accessing dataset:\", e)\n"
      ],
      "metadata": {
        "colab": {
          "base_uri": "https://localhost:8080/"
        },
        "id": "X2QuTaEzj460",
        "outputId": "3ed81697-dc6f-488a-9581-334312f97a9a"
      },
      "execution_count": 48,
      "outputs": [
        {
          "output_type": "stream",
          "name": "stdout",
          "text": [
            "Dataset Info:\n",
            "Dataset Type: <class 'h5py._hl.dataset.Dataset'>\n",
            "Dataset Shape: (88, 1)\n",
            "Dataset dtype: object\n",
            "Dataset Value: [[<HDF5 object reference>]\n",
            " [<HDF5 object reference>]\n",
            " [<HDF5 object reference>]\n",
            " [<HDF5 object reference>]\n",
            " [<HDF5 object reference>]\n",
            " [<HDF5 object reference>]\n",
            " [<HDF5 object reference>]\n",
            " [<HDF5 object reference>]\n",
            " [<HDF5 object reference>]\n",
            " [<HDF5 object reference>]]\n"
          ]
        }
      ]
    },
    {
      "cell_type": "code",
      "source": [
        "import h5py\n",
        "import numpy as np\n",
        "\n",
        "# Load EEG data from .mat file using h5py\n",
        "# mat_file_path = 'EEG_data.mat'\n",
        "with h5py.File(dir, 'r') as file:\n",
        "    eeg_class_dataset = file['EEG_Class']\n",
        "    eeg_data = []\n",
        "\n",
        "    # Iterate over each object reference in the dataset\n",
        "    for ref in eeg_class_dataset[:]:\n",
        "        # Access the referenced object and load its data\n",
        "        subject_data = file[ref[0]][:]  # Assuming the reference is a single element list\n",
        "        eeg_data.append(subject_data)\n",
        "\n",
        "# Now 'eeg_data' contains the actual EEG data for each subject\n",
        "print(\"Number of subjects:\", len(eeg_data))\n",
        "print(\"Shape of the first subject's data:\", eeg_data[0].shape)\n"
      ],
      "metadata": {
        "colab": {
          "base_uri": "https://localhost:8080/"
        },
        "id": "O9v8r235ktvS",
        "outputId": "fbcb9fe0-3b7f-4fbc-e4be-4080a746477d"
      },
      "execution_count": 50,
      "outputs": [
        {
          "output_type": "stream",
          "name": "stderr",
          "text": [
            "ERROR:root:Unexpected exception finding object shape\n",
            "Traceback (most recent call last):\n",
            "  File \"/usr/local/lib/python3.10/dist-packages/google/colab/_debugpy_repr.py\", line 54, in get_shape\n",
            "    shape = getattr(obj, 'shape', None)\n",
            "  File \"/usr/local/lib/python3.10/dist-packages/h5py/_hl/dataset.py\", line 469, in shape\n",
            "    shape = self.id.shape\n",
            "  File \"h5py/h5d.pyx\", line 193, in h5py.h5d.DatasetID.shape.__get__\n",
            "  File \"h5py/h5d.pyx\", line 194, in h5py.h5d.DatasetID.shape.__get__\n",
            "  File \"h5py/_objects.pyx\", line 54, in h5py._objects.with_phil.wrapper\n",
            "  File \"h5py/_objects.pyx\", line 55, in h5py._objects.with_phil.wrapper\n",
            "  File \"h5py/h5d.pyx\", line 350, in h5py.h5d.DatasetID.get_space\n",
            "ValueError: Invalid dataset identifier (invalid dataset identifier)\n",
            "ERROR:root:Unexpected exception finding object shape\n",
            "Traceback (most recent call last):\n",
            "  File \"/usr/local/lib/python3.10/dist-packages/google/colab/_debugpy_repr.py\", line 54, in get_shape\n",
            "    shape = getattr(obj, 'shape', None)\n",
            "  File \"/usr/local/lib/python3.10/dist-packages/h5py/_hl/dataset.py\", line 469, in shape\n",
            "    shape = self.id.shape\n",
            "  File \"h5py/h5d.pyx\", line 193, in h5py.h5d.DatasetID.shape.__get__\n",
            "  File \"h5py/h5d.pyx\", line 194, in h5py.h5d.DatasetID.shape.__get__\n",
            "  File \"h5py/_objects.pyx\", line 54, in h5py._objects.with_phil.wrapper\n",
            "  File \"h5py/_objects.pyx\", line 55, in h5py._objects.with_phil.wrapper\n",
            "  File \"h5py/h5d.pyx\", line 350, in h5py.h5d.DatasetID.get_space\n",
            "ValueError: Invalid dataset identifier (invalid dataset identifier)\n",
            "ERROR:root:Unexpected exception finding object shape\n",
            "Traceback (most recent call last):\n",
            "  File \"/usr/local/lib/python3.10/dist-packages/google/colab/_debugpy_repr.py\", line 54, in get_shape\n",
            "    shape = getattr(obj, 'shape', None)\n",
            "  File \"/usr/local/lib/python3.10/dist-packages/h5py/_hl/dataset.py\", line 469, in shape\n",
            "    shape = self.id.shape\n",
            "  File \"h5py/h5d.pyx\", line 193, in h5py.h5d.DatasetID.shape.__get__\n",
            "  File \"h5py/h5d.pyx\", line 194, in h5py.h5d.DatasetID.shape.__get__\n",
            "  File \"h5py/_objects.pyx\", line 54, in h5py._objects.with_phil.wrapper\n",
            "  File \"h5py/_objects.pyx\", line 55, in h5py._objects.with_phil.wrapper\n",
            "  File \"h5py/h5d.pyx\", line 350, in h5py.h5d.DatasetID.get_space\n",
            "ValueError: Invalid dataset identifier (invalid dataset identifier)\n"
          ]
        },
        {
          "output_type": "stream",
          "name": "stdout",
          "text": [
            "Number of subjects: 88\n",
            "Shape of the first subject's data: (59, 19, 2500)\n"
          ]
        },
        {
          "output_type": "stream",
          "name": "stderr",
          "text": [
            "ERROR:root:Unexpected exception finding object shape\n",
            "Traceback (most recent call last):\n",
            "  File \"/usr/local/lib/python3.10/dist-packages/google/colab/_debugpy_repr.py\", line 54, in get_shape\n",
            "    shape = getattr(obj, 'shape', None)\n",
            "  File \"/usr/local/lib/python3.10/dist-packages/h5py/_hl/dataset.py\", line 469, in shape\n",
            "    shape = self.id.shape\n",
            "  File \"h5py/h5d.pyx\", line 193, in h5py.h5d.DatasetID.shape.__get__\n",
            "  File \"h5py/h5d.pyx\", line 194, in h5py.h5d.DatasetID.shape.__get__\n",
            "  File \"h5py/_objects.pyx\", line 54, in h5py._objects.with_phil.wrapper\n",
            "  File \"h5py/_objects.pyx\", line 55, in h5py._objects.with_phil.wrapper\n",
            "  File \"h5py/h5d.pyx\", line 350, in h5py.h5d.DatasetID.get_space\n",
            "ValueError: Invalid dataset identifier (invalid dataset identifier)\n"
          ]
        }
      ]
    },
    {
      "cell_type": "code",
      "source": [
        "import numpy as np\n",
        "import mne\n",
        "\n",
        "\n",
        "# Iterate over each subject's data\n",
        "for subject_idx, subject_data in enumerate(eeg_data):\n",
        "    # Process the EEG data for the subject (similar to the previous code)\n",
        "    # Create a list to store coherence plots for each subject\n",
        "    coherence_plots = []\n",
        "\n",
        "    # Iterate over each epoch in the subject's data\n",
        "    for epoch_idx, epoch_ref in enumerate(subject_data):\n",
        "        # Extract actual epoch data from reference object\n",
        "        epoch_data = file[epoch_ref[0]][:]\n",
        "\n",
        "        # Convert epoch data to MNE Raw object\n",
        "        info = mne.create_info(ch_names=['Channel {}'.format(i) for i in range(epoch_data.shape[1])],\n",
        "                               sfreq=100,  # Assuming 100 Hz sampling frequency\n",
        "                               ch_types='eeg')\n",
        "        raw = mne.io.RawArray(epoch_data.T, info)\n",
        "\n",
        "        # Compute coherence\n",
        "        fmin = 1  # Minimum frequency for coherence computation\n",
        "        fmax = 30  # Maximum frequency for coherence computation\n",
        "        coherence, freqs, times, n_epochs, n_tapers = mne.connectivity.spectral_connectivity(\n",
        "            raw, method='coh', mode='multitaper', fmin=fmin, fmax=fmax, faverage=True)\n",
        "\n",
        "        # Append coherence plot to list\n",
        "        coherence_plots.append(coherence)\n",
        "\n",
        "    # Concatenate coherence plots along the epoch axis\n",
        "    coherence_plots = np.concatenate(coherence_plots, axis=-1)\n",
        "\n",
        "    # Plot and save coherence images for each subject\n",
        "    for i in range(coherence_plots.shape[0]):\n",
        "        # Create MNE Info object for plotting\n",
        "        info = mne.create_info(ch_names=['Channel {}'.format(i) for i in range(coherence_plots.shape[1])],\n",
        "                               sfreq=100,  # Assuming 100 Hz sampling frequency\n",
        "                               ch_types='eeg')\n",
        "        fig, ax = mne.viz.plot_connectivity_topomap(coherence_plots[i], info, show=False)\n",
        "\n",
        "        # Save coherence images\n",
        "        save_dir = 'coherence_images'\n",
        "        if not os.path.exists(save_dir):\n",
        "            os.makedirs(save_dir)\n",
        "        fig.savefig(os.path.join(save_dir, 'subject{}_coherence_epoch{}.png'.format(subject_idx, i)))\n",
        "        plt.close(fig)"
      ],
      "metadata": {
        "id": "jdekgggoZ4HB",
        "colab": {
          "base_uri": "https://localhost:8080/"
        },
        "outputId": "c4a95698-bbd1-4ff0-e6b8-993a0b90b723"
      },
      "execution_count": 46,
      "outputs": [
        {
          "output_type": "stream",
          "name": "stderr",
          "text": [
            "ERROR:root:Unexpected exception finding object shape\n",
            "Traceback (most recent call last):\n",
            "  File \"/usr/local/lib/python3.10/dist-packages/google/colab/_debugpy_repr.py\", line 54, in get_shape\n",
            "    shape = getattr(obj, 'shape', None)\n",
            "  File \"/usr/local/lib/python3.10/dist-packages/h5py/_hl/dataset.py\", line 469, in shape\n",
            "    shape = self.id.shape\n",
            "  File \"h5py/h5d.pyx\", line 193, in h5py.h5d.DatasetID.shape.__get__\n",
            "  File \"h5py/h5d.pyx\", line 194, in h5py.h5d.DatasetID.shape.__get__\n",
            "  File \"h5py/_objects.pyx\", line 54, in h5py._objects.with_phil.wrapper\n",
            "  File \"h5py/_objects.pyx\", line 55, in h5py._objects.with_phil.wrapper\n",
            "  File \"h5py/h5d.pyx\", line 350, in h5py.h5d.DatasetID.get_space\n",
            "ValueError: Invalid dataset identifier (invalid dataset identifier)\n",
            "ERROR:root:Unexpected exception finding object shape\n",
            "Traceback (most recent call last):\n",
            "  File \"/usr/local/lib/python3.10/dist-packages/google/colab/_debugpy_repr.py\", line 54, in get_shape\n",
            "    shape = getattr(obj, 'shape', None)\n",
            "  File \"/usr/local/lib/python3.10/dist-packages/h5py/_hl/dataset.py\", line 469, in shape\n",
            "    shape = self.id.shape\n",
            "  File \"h5py/h5d.pyx\", line 193, in h5py.h5d.DatasetID.shape.__get__\n",
            "  File \"h5py/h5d.pyx\", line 194, in h5py.h5d.DatasetID.shape.__get__\n",
            "  File \"h5py/_objects.pyx\", line 54, in h5py._objects.with_phil.wrapper\n",
            "  File \"h5py/_objects.pyx\", line 55, in h5py._objects.with_phil.wrapper\n",
            "  File \"h5py/h5d.pyx\", line 350, in h5py.h5d.DatasetID.get_space\n",
            "ValueError: Invalid dataset identifier (invalid dataset identifier)\n"
          ]
        }
      ]
    }
  ]
}
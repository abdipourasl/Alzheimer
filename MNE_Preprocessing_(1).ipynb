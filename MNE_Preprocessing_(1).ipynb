{
  "cells": [
    {
      "cell_type": "markdown",
      "metadata": {
        "id": "view-in-github",
        "colab_type": "text"
      },
      "source": [
        "<a href=\"https://colab.research.google.com/github/abdipourasl/Alzheimer/blob/main/MNE_Preprocessing_(1).ipynb\" target=\"_parent\"><img src=\"https://colab.research.google.com/assets/colab-badge.svg\" alt=\"Open In Colab\"/></a>"
      ]
    },
    {
      "cell_type": "markdown",
      "metadata": {
        "id": "EX0GkIMF8Ogc"
      },
      "source": [
        "<div class=\"alert alert-block alert-success\">\n",
        "<h1>EEG Preprocessing with MNE</h1>\n",
        "</div>"
      ]
    },
    {
      "cell_type": "code",
      "execution_count": 316,
      "metadata": {
        "colab": {
          "base_uri": "https://localhost:8080/"
        },
        "id": "rJ9MWCBJ8Tpa",
        "outputId": "d662eda3-c129-43cb-8e3f-f0af7f89e3ed"
      },
      "outputs": [
        {
          "output_type": "stream",
          "name": "stdout",
          "text": [
            "Requirement already satisfied: mne in /usr/local/lib/python3.10/dist-packages (1.8.0)\n",
            "Requirement already satisfied: decorator in /usr/local/lib/python3.10/dist-packages (from mne) (4.4.2)\n",
            "Requirement already satisfied: jinja2 in /usr/local/lib/python3.10/dist-packages (from mne) (3.1.4)\n",
            "Requirement already satisfied: lazy-loader>=0.3 in /usr/local/lib/python3.10/dist-packages (from mne) (0.4)\n",
            "Requirement already satisfied: matplotlib>=3.6 in /usr/local/lib/python3.10/dist-packages (from mne) (3.7.1)\n",
            "Requirement already satisfied: numpy<3,>=1.23 in /usr/local/lib/python3.10/dist-packages (from mne) (1.26.4)\n",
            "Requirement already satisfied: packaging in /usr/local/lib/python3.10/dist-packages (from mne) (24.1)\n",
            "Requirement already satisfied: pooch>=1.5 in /usr/local/lib/python3.10/dist-packages (from mne) (1.8.2)\n",
            "Requirement already satisfied: scipy>=1.9 in /usr/local/lib/python3.10/dist-packages (from mne) (1.13.1)\n",
            "Requirement already satisfied: tqdm in /usr/local/lib/python3.10/dist-packages (from mne) (4.66.5)\n",
            "Requirement already satisfied: contourpy>=1.0.1 in /usr/local/lib/python3.10/dist-packages (from matplotlib>=3.6->mne) (1.3.0)\n",
            "Requirement already satisfied: cycler>=0.10 in /usr/local/lib/python3.10/dist-packages (from matplotlib>=3.6->mne) (0.12.1)\n",
            "Requirement already satisfied: fonttools>=4.22.0 in /usr/local/lib/python3.10/dist-packages (from matplotlib>=3.6->mne) (4.54.1)\n",
            "Requirement already satisfied: kiwisolver>=1.0.1 in /usr/local/lib/python3.10/dist-packages (from matplotlib>=3.6->mne) (1.4.7)\n",
            "Requirement already satisfied: pillow>=6.2.0 in /usr/local/lib/python3.10/dist-packages (from matplotlib>=3.6->mne) (10.4.0)\n",
            "Requirement already satisfied: pyparsing>=2.3.1 in /usr/local/lib/python3.10/dist-packages (from matplotlib>=3.6->mne) (3.2.0)\n",
            "Requirement already satisfied: python-dateutil>=2.7 in /usr/local/lib/python3.10/dist-packages (from matplotlib>=3.6->mne) (2.8.2)\n",
            "Requirement already satisfied: platformdirs>=2.5.0 in /usr/local/lib/python3.10/dist-packages (from pooch>=1.5->mne) (4.3.6)\n",
            "Requirement already satisfied: requests>=2.19.0 in /usr/local/lib/python3.10/dist-packages (from pooch>=1.5->mne) (2.32.3)\n",
            "Requirement already satisfied: MarkupSafe>=2.0 in /usr/local/lib/python3.10/dist-packages (from jinja2->mne) (3.0.2)\n",
            "Requirement already satisfied: six>=1.5 in /usr/local/lib/python3.10/dist-packages (from python-dateutil>=2.7->matplotlib>=3.6->mne) (1.16.0)\n",
            "Requirement already satisfied: charset-normalizer<4,>=2 in /usr/local/lib/python3.10/dist-packages (from requests>=2.19.0->pooch>=1.5->mne) (3.4.0)\n",
            "Requirement already satisfied: idna<4,>=2.5 in /usr/local/lib/python3.10/dist-packages (from requests>=2.19.0->pooch>=1.5->mne) (3.10)\n",
            "Requirement already satisfied: urllib3<3,>=1.21.1 in /usr/local/lib/python3.10/dist-packages (from requests>=2.19.0->pooch>=1.5->mne) (2.2.3)\n",
            "Requirement already satisfied: certifi>=2017.4.17 in /usr/local/lib/python3.10/dist-packages (from requests>=2.19.0->pooch>=1.5->mne) (2024.8.30)\n"
          ]
        }
      ],
      "source": [
        "! pip install mne"
      ]
    },
    {
      "cell_type": "code",
      "execution_count": 317,
      "metadata": {
        "colab": {
          "base_uri": "https://localhost:8080/"
        },
        "id": "zg3NyJ2D8VqD",
        "outputId": "a48fd850-ebb7-4772-e5df-b17d3734ab93"
      },
      "outputs": [
        {
          "output_type": "stream",
          "name": "stdout",
          "text": [
            "Drive already mounted at /content/drive; to attempt to forcibly remount, call drive.mount(\"/content/drive\", force_remount=True).\n"
          ]
        }
      ],
      "source": [
        "from google.colab import drive\n",
        "drive.mount('/content/drive')"
      ]
    },
    {
      "cell_type": "code",
      "execution_count": 318,
      "metadata": {
        "id": "x8kev6YB8Ogf"
      },
      "outputs": [],
      "source": [
        "%matplotlib inline\n",
        "import os\n",
        "import os.path as op\n",
        "import mne\n",
        "import numpy as np\n",
        "import pandas as pd"
      ]
    },
    {
      "cell_type": "markdown",
      "metadata": {
        "id": "5iELnCUL8Ogg"
      },
      "source": [
        "### 1. Importing Raw  Data"
      ]
    },
    {
      "cell_type": "markdown",
      "metadata": {
        "id": "ndFKlfxs8Ogh"
      },
      "source": [
        ">You need to provide your own EEG data with BrainVision format which have three files named  .vhdr, .vmrk and .eeg"
      ]
    },
    {
      "cell_type": "markdown",
      "metadata": {
        "id": "1elCRY9f8Ogh"
      },
      "source": [
        "<div class=\"alert alert-block alert-info\">\n",
        "<b>Tip:</b> You can change read_raw_brainvision() <a href=\"https://mne.tools/stable/auto_tutorials/io/plot_20_reading_eeg_data.html\" title=\"Data EEG formats\"> module based on your data format</a>\n",
        "</div>"
      ]
    },
    {
      "cell_type": "code",
      "execution_count": 319,
      "metadata": {
        "id": "cOoXSSKw9dgS"
      },
      "outputs": [],
      "source": [
        "import zipfile\n",
        "\n",
        "# Replace 'your_zip_file.zip' with the path to your zip file\n",
        "zip_path = '/content/drive/MyDrive/Alzheimer 2/Database_AD_MCI_HC_Wake_EDFraw_complete-20240930T174905Z-002.zip'\n",
        "with zipfile.ZipFile(zip_path, 'r') as zip_ref:\n",
        "    zip_ref.extractall('/content/')  # Specify your destination folder"
      ]
    },
    {
      "cell_type": "code",
      "execution_count": 320,
      "metadata": {
        "colab": {
          "base_uri": "https://localhost:8080/"
        },
        "id": "0YCYlzYZ8Ogh",
        "outputId": "7daff4f6-0818-416b-aef5-5b7925ffdd49"
      },
      "outputs": [
        {
          "output_type": "stream",
          "name": "stdout",
          "text": [
            "Extracting EDF parameters from /content/Database_AD_MCI_HC_Wake_EDFraw_complete/DatabaseCorretto/IDpz_102/IDpz102_W2OC.edf...\n",
            "EDF file detected\n",
            "Setting channel info structure...\n",
            "Creating raw.info structure...\n",
            "Reading 0 ... 88831  =      0.000 ...   346.996 secs...\n"
          ]
        },
        {
          "output_type": "stream",
          "name": "stderr",
          "text": [
            "<ipython-input-320-bfdd950b41e8>:5: RuntimeWarning: Channels contain different highpass filters. Highest filter setting will be stored.\n",
            "  raw = mne.io.read_raw_edf(edf_file, preload=True)  # preload=True loads the data into memory\n",
            "<ipython-input-320-bfdd950b41e8>:5: RuntimeWarning: Channels contain different lowpass filters. Lowest filter setting will be stored.\n",
            "  raw = mne.io.read_raw_edf(edf_file, preload=True)  # preload=True loads the data into memory\n",
            "<ipython-input-320-bfdd950b41e8>:5: RuntimeWarning: Highpass cutoff frequency 40.0 is greater than lowpass cutoff frequency 1.0, setting values to 0 and Nyquist.\n",
            "  raw = mne.io.read_raw_edf(edf_file, preload=True)  # preload=True loads the data into memory\n"
          ]
        }
      ],
      "source": [
        "examples_dir = '/content/Database_AD_MCI_HC_Wake_EDFraw_complete/DatabaseCorretto/IDpz_102'  # Path to the raw EEG Data folder\n",
        "edf_file = op.join(examples_dir, 'IDpz102_W2OA.edf')  # Path to the raw EEG EDF file\n",
        "\n",
        "# Load the EDF file instead of BrainVision file\n",
        "raw = mne.io.read_raw_edf(edf_file, preload=True)  # preload=True loads the data into memory\n"
      ]
    },
    {
      "cell_type": "code",
      "execution_count": 321,
      "metadata": {
        "colab": {
          "base_uri": "https://localhost:8080/"
        },
        "id": "4h4_4J9q-C-H",
        "outputId": "c4083322-a6a1-4984-b128-b1ce8f376426"
      },
      "outputs": [
        {
          "output_type": "stream",
          "name": "stdout",
          "text": [
            "['Fp1-A1+A2', 'Fp2-A1+A2', 'F3-A1+A2', 'F4-A1+A2', 'Fz-A1+A2', 'F7-A1+A2', 'F8-A1+A2', 'C3-A1+A2', 'C4-A1+A2', 'Cz-A1+A2', 'P3-A1+A2', 'P4-A1+A2', 'Pz-A1+A2', 'T3-A1+A2', 'T4-A1+A2', 'T5-A1+A2', 'T6-A1+A2', 'O1-A1+A2', 'O2-A1+A2', 'A1-A1+A2', 'A2-A1+A2', 'EMG1+', 'EOG1+', 'ECG1+', 'SpO2+']\n"
          ]
        }
      ],
      "source": [
        "# Check channel names to confirm correct labeling\n",
        "print(raw.info['ch_names'])\n"
      ]
    },
    {
      "cell_type": "code",
      "execution_count": 322,
      "metadata": {
        "id": "G5n303pm8Ogi"
      },
      "outputs": [],
      "source": [
        "# Setting multiple channel types at once\n",
        "# raw.set_channel_types({'ECG1+': 'ecg', 'SpO2+': 'bio'})"
      ]
    },
    {
      "cell_type": "markdown",
      "metadata": {
        "id": "jOF8tuP_AFNf"
      },
      "source": [
        "###### Consider just first 19 channels in preprocessing"
      ]
    },
    {
      "cell_type": "code",
      "execution_count": 323,
      "metadata": {
        "colab": {
          "base_uri": "https://localhost:8080/",
          "height": 388
        },
        "id": "RajKoRPFAC_-",
        "outputId": "f08034dc-ded4-42d6-9cc8-ee424ad13a3c"
      },
      "outputs": [
        {
          "output_type": "execute_result",
          "data": {
            "text/plain": [
              "<RawEDF | IDpz102_W2OC.edf, 21 x 88832 (347.0 s), ~14.3 MB, data loaded>"
            ],
            "text/html": [
              "<script type=\"text/javascript\">\n",
              "    const toggleVisibility = (className) => {\n",
              "\n",
              "  const elements = document.querySelectorAll(`.${className}`)\n",
              "\n",
              "  elements.forEach(element => {\n",
              "    if (element.classList.contains('repr-section-header')) {\n",
              "      // Don't collapse the section header row.\n",
              "       return\n",
              "    }\n",
              "    if (element.classList.contains('repr-element-collapsed')) {\n",
              "      // Force a reflow to ensure the display change takes effect before removing the class\n",
              "      element.classList.remove('repr-element-collapsed')\n",
              "      element.offsetHeight // This forces the browser to recalculate layout\n",
              "      element.classList.remove('repr-element-faded')\n",
              "    } else {\n",
              "      // Start transition to hide the element\n",
              "      element.classList.add('repr-element-faded')\n",
              "      element.addEventListener('transitionend', handler = (e) => {\n",
              "        if (e.propertyName === 'opacity' && getComputedStyle(element).opacity === '0.2') {\n",
              "          element.classList.add('repr-element-collapsed')\n",
              "          element.removeEventListener('transitionend', handler)\n",
              "        }\n",
              "      });\n",
              "    }\n",
              "  });\n",
              "\n",
              "  // Take care of button (adjust caret)\n",
              "  const button = document.querySelectorAll(`.repr-section-header.${className} > th.repr-section-toggle-col > button`)[0]\n",
              "  button.classList.toggle('collapsed')\n",
              "\n",
              "  // Take care of the tooltip of the section header row\n",
              "  const sectionHeaderRow = document.querySelectorAll(`tr.repr-section-header.${className}`)[0]\n",
              "  sectionHeaderRow.classList.toggle('collapsed')\n",
              "  sectionHeaderRow.title = sectionHeaderRow.title === 'Hide section' ? 'Show section' : 'Hide section'\n",
              "}\n",
              "</script>\n",
              "\n",
              "<style type=\"text/css\">\n",
              "    table.repr.table.table-hover.table-striped.table-sm.table-responsive.small {\n",
              "  /* Don't make rows wider than they need to be. */\n",
              "  display: inline;\n",
              "}\n",
              "\n",
              "table > tbody > tr.repr-element > td {\n",
              "  /* Apply a tighter layout to the table cells. */\n",
              "  padding-top: 0.1rem;\n",
              "  padding-bottom: 0.1rem;\n",
              "  padding-right: 1rem;\n",
              "}\n",
              "\n",
              "table > tbody > tr > td.repr-section-toggle-col {\n",
              "  /* Remove background and border of the first cell in every row\n",
              "     (this row is only used for the collapse / uncollapse caret)\n",
              "\n",
              "     TODO: Need to find a good solution for VS Code that works in both\n",
              "           light and dark mode. */\n",
              "  border-color: transparent;\n",
              "  --bs-table-accent-bg: transparent;\n",
              "}\n",
              "\n",
              "tr.repr-section-header {\n",
              "  /* Remove stripes from section header rows */\n",
              "  background-color: transparent;\n",
              "  border-color: transparent;\n",
              "  --bs-table-striped-bg: transparent;\n",
              "  cursor: pointer;\n",
              "}\n",
              "\n",
              "tr.repr-section-header > th {\n",
              "  text-align: left !important;\n",
              "  vertical-align: middle;\n",
              "}\n",
              "\n",
              ".repr-element, tr.repr-element > td {\n",
              "  opacity: 1;\n",
              "  text-align: left !important;\n",
              "}\n",
              "\n",
              ".repr-element-faded {\n",
              "  transition: 0.3s ease;\n",
              "  opacity: 0.2;\n",
              "}\n",
              "\n",
              ".repr-element-collapsed {\n",
              "  display: none;\n",
              "}\n",
              "\n",
              "/* Collapse / uncollapse button and the caret it contains. */\n",
              ".repr-section-toggle-col button {\n",
              "  cursor: pointer;\n",
              "  width: 1rem;\n",
              "  background-color: transparent;\n",
              "  border-color: transparent;\n",
              "}\n",
              "\n",
              "span.collapse-uncollapse-caret {\n",
              "  width: 1rem;\n",
              "  height: 1rem;\n",
              "  display: block;\n",
              "  background-repeat: no-repeat;\n",
              "  background-position: left;\n",
              "  background-size: contain;\n",
              "}\n",
              "\n",
              "/* The collapse / uncollapse carets were copied from the free Font Awesome collection and adjusted. */\n",
              "\n",
              "/* Default to black carets for light mode */\n",
              ".repr-section-toggle-col > button.collapsed > span.collapse-uncollapse-caret {\n",
              "  background-image: url('data:image/svg+xml;charset=utf8,<svg xmlns=\"http://www.w3.org/2000/svg\" viewBox=\"0 0 256 512\"><!--!Font Awesome Free 6.5.2 by @fontawesome - https://fontawesome.com License - https://fontawesome.com/license/free Copyright 2024 Fonticons, Inc.--><path fill=\"black\" d=\"M246.6 278.6c12.5-12.5 12.5-32.8 0-45.3l-128-128c-9.2-9.2-22.9-11.9-34.9-6.9s-19.8 16.6-19.8 29.6l0 256c0 12.9 7.8 24.6 19.8 29.6s25.7 2.2 34.9-6.9l128-128z\"/></svg>');\n",
              "}\n",
              "\n",
              ".repr-section-toggle-col\n",
              "  > button:not(.collapsed)\n",
              "  > span.collapse-uncollapse-caret {\n",
              "  background-image: url('data:image/svg+xml;charset=utf8,<svg xmlns=\"http://www.w3.org/2000/svg\" viewBox=\"0 0 320 512\"><!--!Font Awesome Free 6.5.2 by @fontawesome - https://fontawesome.com License - https://fontawesome.com/license/free Copyright 2024 Fonticons, Inc.--><path fill=\"black\" d=\"M137.4 374.6c12.5 12.5 32.8 12.5 45.3 0l128-128c9.2-9.2 11.9-22.9 6.9-34.9s-16.6-19.8-29.6-19.8L32 192c-12.9 0-24.6 7.8-29.6 19.8s-2.2 25.7 6.9 34.9l128 128z\"/></svg>');\n",
              "}\n",
              "\n",
              "/* Use white carets for dark mode */\n",
              "@media (prefers-color-scheme: dark) {\n",
              "  .repr-section-toggle-col > button.collapsed > span.collapse-uncollapse-caret {\n",
              "    background-image: url('data:image/svg+xml;charset=utf8,<svg xmlns=\"http://www.w3.org/2000/svg\" viewBox=\"0 0 256 512\"><!--!Font Awesome Free 6.5.2 by @fontawesome - https://fontawesome.com License - https://fontawesome.com/license/free Copyright 2024 Fonticons, Inc.--><path fill=\"white\" d=\"M246.6 278.6c12.5-12.5 12.5-32.8 0-45.3l-128-128c-9.2-9.2-22.9-11.9-34.9-6.9s-19.8 16.6-19.8 29.6l0 256c0 12.9 7.8 24.6 19.8 29.6s25.7 2.2 34.9-6.9l128-128z\"/></svg>');\n",
              "  }\n",
              "\n",
              "  .repr-section-toggle-col\n",
              "    > button:not(.collapsed)\n",
              "    > span.collapse-uncollapse-caret {\n",
              "    background-image: url('data:image/svg+xml;charset=utf8,<svg xmlns=\"http://www.w3.org/2000/svg\" viewBox=\"0 0 320 512\"><!--!Font Awesome Free 6.5.2 by @fontawesome - https://fontawesome.com License - https://fontawesome.com/license/free Copyright 2024 Fonticons, Inc.--><path fill=\"white\" d=\"M137.4 374.6c12.5 12.5 32.8 12.5 45.3 0l128-128c9.2-9.2 11.9-22.9 6.9-34.9s-16.6-19.8-29.6-19.8L32 192c-12.9 0-24.6 7.8-29.6 19.8s-2.2 25.7 6.9 34.9l128 128z\"/></svg>');\n",
              "  }\n",
              "}\n",
              "\n",
              ".channel-names-btn {\n",
              "  padding: 0;\n",
              "  border: none;\n",
              "  background: none;\n",
              "  text-decoration: underline;\n",
              "  text-decoration-style: dashed;\n",
              "  cursor: pointer;\n",
              "  color: #0d6efd;\n",
              "}\n",
              "\n",
              ".channel-names-btn:hover {\n",
              "  color: #0a58ca;\n",
              "}\n",
              "</style>\n",
              "\n",
              "\n",
              "\n",
              "<table class=\"repr table table-hover table-striped table-sm table-responsive small\">\n",
              "    \n",
              "\n",
              "\n",
              "\n",
              "\n",
              "\n",
              "\n",
              "\n",
              "<tr class=\"repr-section-header general-10cb0b9a-077c-4203-b7f2-ac6c6c7f6bb7\"  title=\"Hide section\" \n",
              "    onclick=\"toggleVisibility('general-10cb0b9a-077c-4203-b7f2-ac6c6c7f6bb7')\">\n",
              "    <th class=\"repr-section-toggle-col\">\n",
              "        <button>\n",
              "            \n",
              "            <span class=\"collapse-uncollapse-caret\"></span>\n",
              "        </button>\n",
              "    </th>\n",
              "    <th colspan=\"2\">\n",
              "        <strong>General</strong>\n",
              "    </th>\n",
              "</tr>\n",
              "\n",
              "<tr class=\"repr-element general-10cb0b9a-077c-4203-b7f2-ac6c6c7f6bb7 \">\n",
              "    <td class=\"repr-section-toggle-col\"></td>\n",
              "    <td>Filename(s)</td>\n",
              "    <td>\n",
              "        \n",
              "        IDpz102_W2OC.edf\n",
              "        \n",
              "        \n",
              "    </td>\n",
              "</tr>\n",
              "\n",
              "<tr class=\"repr-element general-10cb0b9a-077c-4203-b7f2-ac6c6c7f6bb7 \">\n",
              "    <td class=\"repr-section-toggle-col\"></td>\n",
              "    <td>MNE object type</td>\n",
              "    <td>RawEDF</td>\n",
              "</tr>\n",
              "<tr class=\"repr-element general-10cb0b9a-077c-4203-b7f2-ac6c6c7f6bb7 \">\n",
              "    <td class=\"repr-section-toggle-col\"></td>\n",
              "    <td>Measurement date</td>\n",
              "    \n",
              "    <td>2015-03-04 at 07:02:55 UTC</td>\n",
              "    \n",
              "</tr>\n",
              "<tr class=\"repr-element general-10cb0b9a-077c-4203-b7f2-ac6c6c7f6bb7 \">\n",
              "    <td class=\"repr-section-toggle-col\"></td>\n",
              "    <td>Participant</td>\n",
              "    \n",
              "    \n",
              "    <td>IDpz102_051136_wpost</td>\n",
              "    \n",
              "    \n",
              "</tr>\n",
              "<tr class=\"repr-element general-10cb0b9a-077c-4203-b7f2-ac6c6c7f6bb7 \">\n",
              "    <td class=\"repr-section-toggle-col\"></td>\n",
              "    <td>Experimenter</td>\n",
              "    \n",
              "    <td>Unknown</td>\n",
              "    \n",
              "</tr>\n",
              "    \n",
              "\n",
              "\n",
              "\n",
              "\n",
              "\n",
              "\n",
              "\n",
              "<tr class=\"repr-section-header acquisition-4fa3ead5-85cd-4381-9a7b-5628c49c9b28\" \n",
              "    title=\"Hide section\"  onclick=\"toggleVisibility('acquisition-4fa3ead5-85cd-4381-9a7b-5628c49c9b28')\">\n",
              "    <th class=\"repr-section-toggle-col\">\n",
              "        <button>\n",
              "            \n",
              "            <span class=\"collapse-uncollapse-caret\"></span>\n",
              "        </button>\n",
              "    </th>\n",
              "    <th colspan=\"2\">\n",
              "        <strong>Acquisition</strong>\n",
              "    </th>\n",
              "</tr>\n",
              "\n",
              "<tr class=\"repr-element acquisition-4fa3ead5-85cd-4381-9a7b-5628c49c9b28 \">\n",
              "    <td class=\"repr-section-toggle-col\"></td>\n",
              "    <td>Duration</td>\n",
              "    <td>00:05:47 (HH:MM:SS)</td>\n",
              "</tr>\n",
              "\n",
              "\n",
              "\n",
              "\n",
              "\n",
              "\n",
              "\n",
              "\n",
              "<tr class=\"repr-element acquisition-4fa3ead5-85cd-4381-9a7b-5628c49c9b28 \">\n",
              "    <td class=\"repr-section-toggle-col\"></td>\n",
              "    <td>Sampling frequency</td>\n",
              "    <td>256.00 Hz</td>\n",
              "</tr>\n",
              "\n",
              "\n",
              "<tr class=\"repr-element acquisition-4fa3ead5-85cd-4381-9a7b-5628c49c9b28 \">\n",
              "    <td class=\"repr-section-toggle-col\"></td>\n",
              "    <td>Time points</td>\n",
              "    <td>88,832</td>\n",
              "</tr>\n",
              "\n",
              "\n",
              "    \n",
              "\n",
              "\n",
              "\n",
              "\n",
              "\n",
              "\n",
              "\n",
              "<tr class=\"repr-section-header channels-294bdf94-da26-4c6c-9466-f481ed8ace6d\"  title=\"Hide section\" \n",
              "    onclick=\"toggleVisibility('channels-294bdf94-da26-4c6c-9466-f481ed8ace6d')\">\n",
              "    <th class=\"repr-section-toggle-col\">\n",
              "        <button>\n",
              "            \n",
              "            <span class=\"collapse-uncollapse-caret\"></span>\n",
              "        </button>\n",
              "    </th>\n",
              "    <th colspan=\"2\">\n",
              "        <strong>Channels</strong>\n",
              "    </th>\n",
              "</tr>\n",
              "\n",
              "\n",
              "<tr class=\"repr-element channels-294bdf94-da26-4c6c-9466-f481ed8ace6d \">\n",
              "    <td class=\"repr-section-toggle-col\"></td>\n",
              "    <td>EEG</td>\n",
              "    <td>\n",
              "        <button class=\"channel-names-btn\" onclick=\"alert('Good EEG:\\n\\nFp1-A1+A2, Fp2-A1+A2, F3-A1+A2, F4-A1+A2, Fz-A1+A2, F7-A1+A2, F8-A1+A2, C3-A1+A2, C4-A1+A2, Cz-A1+A2, P3-A1+A2, P4-A1+A2, Pz-A1+A2, T3-A1+A2, T4-A1+A2, T5-A1+A2, T6-A1+A2, O1-A1+A2, O2-A1+A2, A1-A1+A2, A2-A1+A2')\" title=\"(Click to open in popup)&#13;&#13;Fp1-A1+A2, Fp2-A1+A2, F3-A1+A2, F4-A1+A2, Fz-A1+A2, F7-A1+A2, F8-A1+A2, C3-A1+A2, C4-A1+A2, Cz-A1+A2, P3-A1+A2, P4-A1+A2, Pz-A1+A2, T3-A1+A2, T4-A1+A2, T5-A1+A2, T6-A1+A2, O1-A1+A2, O2-A1+A2, A1-A1+A2, A2-A1+A2\">\n",
              "            21\n",
              "        </button>\n",
              "\n",
              "        \n",
              "    </td>\n",
              "</tr>\n",
              "\n",
              "\n",
              "<tr class=\"repr-element channels-294bdf94-da26-4c6c-9466-f481ed8ace6d \">\n",
              "    <td class=\"repr-section-toggle-col\"></td>\n",
              "    <td>Head & sensor digitization</td>\n",
              "    \n",
              "    <td>Not available</td>\n",
              "    \n",
              "</tr>\n",
              "    \n",
              "\n",
              "\n",
              "\n",
              "\n",
              "\n",
              "\n",
              "\n",
              "<tr class=\"repr-section-header filters-c7726e63-65d5-4c6d-b3a4-ff9d481d2dd4\"  title=\"Hide section\" \n",
              "    onclick=\"toggleVisibility('filters-c7726e63-65d5-4c6d-b3a4-ff9d481d2dd4')\">\n",
              "    <th class=\"repr-section-toggle-col\">\n",
              "        <button>\n",
              "            \n",
              "            <span class=\"collapse-uncollapse-caret\"></span>\n",
              "        </button>\n",
              "    </th>\n",
              "    <th colspan=\"2\">\n",
              "        <strong>Filters</strong>\n",
              "    </th>\n",
              "</tr>\n",
              "\n",
              "<tr class=\"repr-element filters-c7726e63-65d5-4c6d-b3a4-ff9d481d2dd4 \">\n",
              "    <td class=\"repr-section-toggle-col\"></td>\n",
              "    <td>Highpass</td>\n",
              "    <td>0.00 Hz</td>\n",
              "</tr>\n",
              "\n",
              "\n",
              "<tr class=\"repr-element filters-c7726e63-65d5-4c6d-b3a4-ff9d481d2dd4 \">\n",
              "    <td class=\"repr-section-toggle-col\"></td>\n",
              "    <td>Lowpass</td>\n",
              "    <td>128.00 Hz</td>\n",
              "</tr>\n",
              "\n",
              "\n",
              "</table>"
            ]
          },
          "metadata": {},
          "execution_count": 323
        }
      ],
      "source": [
        "# Step 1: Remove unwanted channels\n",
        "# Specify the channels to drop (SpO2+, EOG1+, EMG1+)\n",
        "channels_to_drop = ['SpO2+', 'EOG1+', 'EMG1+', 'ECG1+']\n",
        "raw.drop_channels(channels_to_drop)\n",
        "\n",
        "# # Step 2: Re-reference using the first 19 EEG channels (exclude ECG)\n",
        "# # First, get the names of the first 19 channels (all channels except ECG and reference ones)\n",
        "# ref_channels = [\n",
        "#     'Fp1-A1+A2', 'Fp2-A1+A2', 'F3-A1+A2', 'F4-A1+A2', 'Fz-A1+A2', 'F7-A1+A2',\n",
        "#     'F8-A1+A2', 'C3-A1+A2', 'C4-A1+A2', 'Cz-A1+A2', 'P3-A1+A2', 'P4-A1+A2',\n",
        "#     'Pz-A1+A2', 'T3-A1+A2', 'T4-A1+A2', 'T5-A1+A2', 'T6-A1+A2', 'O1-A1+A2', 'O2-A1+A2'\n",
        "# ]"
      ]
    },
    {
      "cell_type": "markdown",
      "metadata": {
        "id": "FFyV5pPJ8Ogk"
      },
      "source": [
        "### 4. Rereference"
      ]
    },
    {
      "cell_type": "code",
      "execution_count": 324,
      "metadata": {
        "colab": {
          "base_uri": "https://localhost:8080/",
          "height": 425
        },
        "id": "Vxlr1Bq28Ogk",
        "outputId": "f8970ba4-3f92-40bb-8257-0ed60d8afa6d"
      },
      "outputs": [
        {
          "output_type": "stream",
          "name": "stdout",
          "text": [
            "EEG channel type selected for re-referencing\n",
            "Applying a custom ('EEG',) reference.\n"
          ]
        },
        {
          "output_type": "execute_result",
          "data": {
            "text/plain": [
              "<RawEDF | IDpz102_W2OC.edf, 19 x 88832 (347.0 s), ~12.9 MB, data loaded>"
            ],
            "text/html": [
              "<script type=\"text/javascript\">\n",
              "    const toggleVisibility = (className) => {\n",
              "\n",
              "  const elements = document.querySelectorAll(`.${className}`)\n",
              "\n",
              "  elements.forEach(element => {\n",
              "    if (element.classList.contains('repr-section-header')) {\n",
              "      // Don't collapse the section header row.\n",
              "       return\n",
              "    }\n",
              "    if (element.classList.contains('repr-element-collapsed')) {\n",
              "      // Force a reflow to ensure the display change takes effect before removing the class\n",
              "      element.classList.remove('repr-element-collapsed')\n",
              "      element.offsetHeight // This forces the browser to recalculate layout\n",
              "      element.classList.remove('repr-element-faded')\n",
              "    } else {\n",
              "      // Start transition to hide the element\n",
              "      element.classList.add('repr-element-faded')\n",
              "      element.addEventListener('transitionend', handler = (e) => {\n",
              "        if (e.propertyName === 'opacity' && getComputedStyle(element).opacity === '0.2') {\n",
              "          element.classList.add('repr-element-collapsed')\n",
              "          element.removeEventListener('transitionend', handler)\n",
              "        }\n",
              "      });\n",
              "    }\n",
              "  });\n",
              "\n",
              "  // Take care of button (adjust caret)\n",
              "  const button = document.querySelectorAll(`.repr-section-header.${className} > th.repr-section-toggle-col > button`)[0]\n",
              "  button.classList.toggle('collapsed')\n",
              "\n",
              "  // Take care of the tooltip of the section header row\n",
              "  const sectionHeaderRow = document.querySelectorAll(`tr.repr-section-header.${className}`)[0]\n",
              "  sectionHeaderRow.classList.toggle('collapsed')\n",
              "  sectionHeaderRow.title = sectionHeaderRow.title === 'Hide section' ? 'Show section' : 'Hide section'\n",
              "}\n",
              "</script>\n",
              "\n",
              "<style type=\"text/css\">\n",
              "    table.repr.table.table-hover.table-striped.table-sm.table-responsive.small {\n",
              "  /* Don't make rows wider than they need to be. */\n",
              "  display: inline;\n",
              "}\n",
              "\n",
              "table > tbody > tr.repr-element > td {\n",
              "  /* Apply a tighter layout to the table cells. */\n",
              "  padding-top: 0.1rem;\n",
              "  padding-bottom: 0.1rem;\n",
              "  padding-right: 1rem;\n",
              "}\n",
              "\n",
              "table > tbody > tr > td.repr-section-toggle-col {\n",
              "  /* Remove background and border of the first cell in every row\n",
              "     (this row is only used for the collapse / uncollapse caret)\n",
              "\n",
              "     TODO: Need to find a good solution for VS Code that works in both\n",
              "           light and dark mode. */\n",
              "  border-color: transparent;\n",
              "  --bs-table-accent-bg: transparent;\n",
              "}\n",
              "\n",
              "tr.repr-section-header {\n",
              "  /* Remove stripes from section header rows */\n",
              "  background-color: transparent;\n",
              "  border-color: transparent;\n",
              "  --bs-table-striped-bg: transparent;\n",
              "  cursor: pointer;\n",
              "}\n",
              "\n",
              "tr.repr-section-header > th {\n",
              "  text-align: left !important;\n",
              "  vertical-align: middle;\n",
              "}\n",
              "\n",
              ".repr-element, tr.repr-element > td {\n",
              "  opacity: 1;\n",
              "  text-align: left !important;\n",
              "}\n",
              "\n",
              ".repr-element-faded {\n",
              "  transition: 0.3s ease;\n",
              "  opacity: 0.2;\n",
              "}\n",
              "\n",
              ".repr-element-collapsed {\n",
              "  display: none;\n",
              "}\n",
              "\n",
              "/* Collapse / uncollapse button and the caret it contains. */\n",
              ".repr-section-toggle-col button {\n",
              "  cursor: pointer;\n",
              "  width: 1rem;\n",
              "  background-color: transparent;\n",
              "  border-color: transparent;\n",
              "}\n",
              "\n",
              "span.collapse-uncollapse-caret {\n",
              "  width: 1rem;\n",
              "  height: 1rem;\n",
              "  display: block;\n",
              "  background-repeat: no-repeat;\n",
              "  background-position: left;\n",
              "  background-size: contain;\n",
              "}\n",
              "\n",
              "/* The collapse / uncollapse carets were copied from the free Font Awesome collection and adjusted. */\n",
              "\n",
              "/* Default to black carets for light mode */\n",
              ".repr-section-toggle-col > button.collapsed > span.collapse-uncollapse-caret {\n",
              "  background-image: url('data:image/svg+xml;charset=utf8,<svg xmlns=\"http://www.w3.org/2000/svg\" viewBox=\"0 0 256 512\"><!--!Font Awesome Free 6.5.2 by @fontawesome - https://fontawesome.com License - https://fontawesome.com/license/free Copyright 2024 Fonticons, Inc.--><path fill=\"black\" d=\"M246.6 278.6c12.5-12.5 12.5-32.8 0-45.3l-128-128c-9.2-9.2-22.9-11.9-34.9-6.9s-19.8 16.6-19.8 29.6l0 256c0 12.9 7.8 24.6 19.8 29.6s25.7 2.2 34.9-6.9l128-128z\"/></svg>');\n",
              "}\n",
              "\n",
              ".repr-section-toggle-col\n",
              "  > button:not(.collapsed)\n",
              "  > span.collapse-uncollapse-caret {\n",
              "  background-image: url('data:image/svg+xml;charset=utf8,<svg xmlns=\"http://www.w3.org/2000/svg\" viewBox=\"0 0 320 512\"><!--!Font Awesome Free 6.5.2 by @fontawesome - https://fontawesome.com License - https://fontawesome.com/license/free Copyright 2024 Fonticons, Inc.--><path fill=\"black\" d=\"M137.4 374.6c12.5 12.5 32.8 12.5 45.3 0l128-128c9.2-9.2 11.9-22.9 6.9-34.9s-16.6-19.8-29.6-19.8L32 192c-12.9 0-24.6 7.8-29.6 19.8s-2.2 25.7 6.9 34.9l128 128z\"/></svg>');\n",
              "}\n",
              "\n",
              "/* Use white carets for dark mode */\n",
              "@media (prefers-color-scheme: dark) {\n",
              "  .repr-section-toggle-col > button.collapsed > span.collapse-uncollapse-caret {\n",
              "    background-image: url('data:image/svg+xml;charset=utf8,<svg xmlns=\"http://www.w3.org/2000/svg\" viewBox=\"0 0 256 512\"><!--!Font Awesome Free 6.5.2 by @fontawesome - https://fontawesome.com License - https://fontawesome.com/license/free Copyright 2024 Fonticons, Inc.--><path fill=\"white\" d=\"M246.6 278.6c12.5-12.5 12.5-32.8 0-45.3l-128-128c-9.2-9.2-22.9-11.9-34.9-6.9s-19.8 16.6-19.8 29.6l0 256c0 12.9 7.8 24.6 19.8 29.6s25.7 2.2 34.9-6.9l128-128z\"/></svg>');\n",
              "  }\n",
              "\n",
              "  .repr-section-toggle-col\n",
              "    > button:not(.collapsed)\n",
              "    > span.collapse-uncollapse-caret {\n",
              "    background-image: url('data:image/svg+xml;charset=utf8,<svg xmlns=\"http://www.w3.org/2000/svg\" viewBox=\"0 0 320 512\"><!--!Font Awesome Free 6.5.2 by @fontawesome - https://fontawesome.com License - https://fontawesome.com/license/free Copyright 2024 Fonticons, Inc.--><path fill=\"white\" d=\"M137.4 374.6c12.5 12.5 32.8 12.5 45.3 0l128-128c9.2-9.2 11.9-22.9 6.9-34.9s-16.6-19.8-29.6-19.8L32 192c-12.9 0-24.6 7.8-29.6 19.8s-2.2 25.7 6.9 34.9l128 128z\"/></svg>');\n",
              "  }\n",
              "}\n",
              "\n",
              ".channel-names-btn {\n",
              "  padding: 0;\n",
              "  border: none;\n",
              "  background: none;\n",
              "  text-decoration: underline;\n",
              "  text-decoration-style: dashed;\n",
              "  cursor: pointer;\n",
              "  color: #0d6efd;\n",
              "}\n",
              "\n",
              ".channel-names-btn:hover {\n",
              "  color: #0a58ca;\n",
              "}\n",
              "</style>\n",
              "\n",
              "\n",
              "\n",
              "<table class=\"repr table table-hover table-striped table-sm table-responsive small\">\n",
              "    \n",
              "\n",
              "\n",
              "\n",
              "\n",
              "\n",
              "\n",
              "\n",
              "<tr class=\"repr-section-header general-1c50fc5c-ac99-4a8f-88d8-9e21311be487\"  title=\"Hide section\" \n",
              "    onclick=\"toggleVisibility('general-1c50fc5c-ac99-4a8f-88d8-9e21311be487')\">\n",
              "    <th class=\"repr-section-toggle-col\">\n",
              "        <button>\n",
              "            \n",
              "            <span class=\"collapse-uncollapse-caret\"></span>\n",
              "        </button>\n",
              "    </th>\n",
              "    <th colspan=\"2\">\n",
              "        <strong>General</strong>\n",
              "    </th>\n",
              "</tr>\n",
              "\n",
              "<tr class=\"repr-element general-1c50fc5c-ac99-4a8f-88d8-9e21311be487 \">\n",
              "    <td class=\"repr-section-toggle-col\"></td>\n",
              "    <td>Filename(s)</td>\n",
              "    <td>\n",
              "        \n",
              "        IDpz102_W2OC.edf\n",
              "        \n",
              "        \n",
              "    </td>\n",
              "</tr>\n",
              "\n",
              "<tr class=\"repr-element general-1c50fc5c-ac99-4a8f-88d8-9e21311be487 \">\n",
              "    <td class=\"repr-section-toggle-col\"></td>\n",
              "    <td>MNE object type</td>\n",
              "    <td>RawEDF</td>\n",
              "</tr>\n",
              "<tr class=\"repr-element general-1c50fc5c-ac99-4a8f-88d8-9e21311be487 \">\n",
              "    <td class=\"repr-section-toggle-col\"></td>\n",
              "    <td>Measurement date</td>\n",
              "    \n",
              "    <td>2015-03-04 at 07:02:55 UTC</td>\n",
              "    \n",
              "</tr>\n",
              "<tr class=\"repr-element general-1c50fc5c-ac99-4a8f-88d8-9e21311be487 \">\n",
              "    <td class=\"repr-section-toggle-col\"></td>\n",
              "    <td>Participant</td>\n",
              "    \n",
              "    \n",
              "    <td>IDpz102_051136_wpost</td>\n",
              "    \n",
              "    \n",
              "</tr>\n",
              "<tr class=\"repr-element general-1c50fc5c-ac99-4a8f-88d8-9e21311be487 \">\n",
              "    <td class=\"repr-section-toggle-col\"></td>\n",
              "    <td>Experimenter</td>\n",
              "    \n",
              "    <td>Unknown</td>\n",
              "    \n",
              "</tr>\n",
              "    \n",
              "\n",
              "\n",
              "\n",
              "\n",
              "\n",
              "\n",
              "\n",
              "<tr class=\"repr-section-header acquisition-9a911ebb-7a4f-48a9-b775-2b6ebfafb6cc\" \n",
              "    title=\"Hide section\"  onclick=\"toggleVisibility('acquisition-9a911ebb-7a4f-48a9-b775-2b6ebfafb6cc')\">\n",
              "    <th class=\"repr-section-toggle-col\">\n",
              "        <button>\n",
              "            \n",
              "            <span class=\"collapse-uncollapse-caret\"></span>\n",
              "        </button>\n",
              "    </th>\n",
              "    <th colspan=\"2\">\n",
              "        <strong>Acquisition</strong>\n",
              "    </th>\n",
              "</tr>\n",
              "\n",
              "<tr class=\"repr-element acquisition-9a911ebb-7a4f-48a9-b775-2b6ebfafb6cc \">\n",
              "    <td class=\"repr-section-toggle-col\"></td>\n",
              "    <td>Duration</td>\n",
              "    <td>00:05:47 (HH:MM:SS)</td>\n",
              "</tr>\n",
              "\n",
              "\n",
              "\n",
              "\n",
              "\n",
              "\n",
              "\n",
              "\n",
              "<tr class=\"repr-element acquisition-9a911ebb-7a4f-48a9-b775-2b6ebfafb6cc \">\n",
              "    <td class=\"repr-section-toggle-col\"></td>\n",
              "    <td>Sampling frequency</td>\n",
              "    <td>256.00 Hz</td>\n",
              "</tr>\n",
              "\n",
              "\n",
              "<tr class=\"repr-element acquisition-9a911ebb-7a4f-48a9-b775-2b6ebfafb6cc \">\n",
              "    <td class=\"repr-section-toggle-col\"></td>\n",
              "    <td>Time points</td>\n",
              "    <td>88,832</td>\n",
              "</tr>\n",
              "\n",
              "\n",
              "    \n",
              "\n",
              "\n",
              "\n",
              "\n",
              "\n",
              "\n",
              "\n",
              "<tr class=\"repr-section-header channels-5b3359c3-1934-4ab1-8629-7bc3231fb71d\"  title=\"Hide section\" \n",
              "    onclick=\"toggleVisibility('channels-5b3359c3-1934-4ab1-8629-7bc3231fb71d')\">\n",
              "    <th class=\"repr-section-toggle-col\">\n",
              "        <button>\n",
              "            \n",
              "            <span class=\"collapse-uncollapse-caret\"></span>\n",
              "        </button>\n",
              "    </th>\n",
              "    <th colspan=\"2\">\n",
              "        <strong>Channels</strong>\n",
              "    </th>\n",
              "</tr>\n",
              "\n",
              "\n",
              "<tr class=\"repr-element channels-5b3359c3-1934-4ab1-8629-7bc3231fb71d \">\n",
              "    <td class=\"repr-section-toggle-col\"></td>\n",
              "    <td>EEG</td>\n",
              "    <td>\n",
              "        <button class=\"channel-names-btn\" onclick=\"alert('Good EEG:\\n\\nFp1-A1+A2, Fp2-A1+A2, F3-A1+A2, F4-A1+A2, Fz-A1+A2, F7-A1+A2, F8-A1+A2, C3-A1+A2, C4-A1+A2, Cz-A1+A2, P3-A1+A2, P4-A1+A2, Pz-A1+A2, T3-A1+A2, T4-A1+A2, T5-A1+A2, T6-A1+A2, O1-A1+A2, O2-A1+A2')\" title=\"(Click to open in popup)&#13;&#13;Fp1-A1+A2, Fp2-A1+A2, F3-A1+A2, F4-A1+A2, Fz-A1+A2, F7-A1+A2, F8-A1+A2, C3-A1+A2, C4-A1+A2, Cz-A1+A2, P3-A1+A2, P4-A1+A2, Pz-A1+A2, T3-A1+A2, T4-A1+A2, T5-A1+A2, T6-A1+A2, O1-A1+A2, O2-A1+A2\">\n",
              "            19\n",
              "        </button>\n",
              "\n",
              "        \n",
              "    </td>\n",
              "</tr>\n",
              "\n",
              "\n",
              "<tr class=\"repr-element channels-5b3359c3-1934-4ab1-8629-7bc3231fb71d \">\n",
              "    <td class=\"repr-section-toggle-col\"></td>\n",
              "    <td>Head & sensor digitization</td>\n",
              "    \n",
              "    <td>Not available</td>\n",
              "    \n",
              "</tr>\n",
              "    \n",
              "\n",
              "\n",
              "\n",
              "\n",
              "\n",
              "\n",
              "\n",
              "<tr class=\"repr-section-header filters-0fc5feab-3a2d-477c-a838-8497937220b7\"  title=\"Hide section\" \n",
              "    onclick=\"toggleVisibility('filters-0fc5feab-3a2d-477c-a838-8497937220b7')\">\n",
              "    <th class=\"repr-section-toggle-col\">\n",
              "        <button>\n",
              "            \n",
              "            <span class=\"collapse-uncollapse-caret\"></span>\n",
              "        </button>\n",
              "    </th>\n",
              "    <th colspan=\"2\">\n",
              "        <strong>Filters</strong>\n",
              "    </th>\n",
              "</tr>\n",
              "\n",
              "<tr class=\"repr-element filters-0fc5feab-3a2d-477c-a838-8497937220b7 \">\n",
              "    <td class=\"repr-section-toggle-col\"></td>\n",
              "    <td>Highpass</td>\n",
              "    <td>0.00 Hz</td>\n",
              "</tr>\n",
              "\n",
              "\n",
              "<tr class=\"repr-element filters-0fc5feab-3a2d-477c-a838-8497937220b7 \">\n",
              "    <td class=\"repr-section-toggle-col\"></td>\n",
              "    <td>Lowpass</td>\n",
              "    <td>128.00 Hz</td>\n",
              "</tr>\n",
              "\n",
              "\n",
              "</table>"
            ]
          },
          "metadata": {},
          "execution_count": 324
        }
      ],
      "source": [
        "# raw.set_eeg_reference('average', projection=True).apply_proj()  # re-referencing with the virtual average reference\n",
        "raw.set_eeg_reference(ref_channels=['A1-A1+A2', 'A2-A1+A2'])\n",
        "# raw.set_eeg_reference(ref_channels=['A1-G2', 'A2-G2'])  # Specify the reference channels\n",
        "raw.drop_channels(['A1-A1+A2', 'A2-A1+A2'])"
      ]
    },
    {
      "cell_type": "code",
      "execution_count": null,
      "metadata": {
        "colab": {
          "base_uri": "https://localhost:8080/",
          "height": 1000,
          "referenced_widgets": [
            "e81f29791727462cb4cf44ac7a004343",
            "da31b0ba192f4aa18182b6a78d228e45",
            "ea69dd31212c4486a13f8d75e71b29e1",
            "3c460fdbdc5542fdb27b0de0dc09a0ca",
            "6c10ca226007402c828e106c855d1dc4",
            "a2238e81d0ca419b8c7647ff081966ba",
            "77339ec7c65443e5b7b64c9167283241",
            "980a334403cd404db28fff90b9f07e7f",
            "2d9db30d29064e6aa9c0245d34565db4",
            "f226912c733a4e559ea31961b185fee5",
            "8026b333fce74234a9db8fed681b6e55"
          ]
        },
        "id": "ekzlCc4z8fjQ",
        "outputId": "cb8cebe3-47d0-453a-d661-b2e8def63760"
      },
      "outputs": [
        {
          "output_type": "stream",
          "name": "stdout",
          "text": [
            "Requirement already satisfied: pyprep in /usr/local/lib/python3.10/dist-packages (0.4.3)\n",
            "Requirement already satisfied: numpy>=1.20.2 in /usr/local/lib/python3.10/dist-packages (from pyprep) (1.26.4)\n",
            "Requirement already satisfied: scipy>=1.6.3 in /usr/local/lib/python3.10/dist-packages (from pyprep) (1.13.1)\n",
            "Requirement already satisfied: mne>=1.3.0 in /usr/local/lib/python3.10/dist-packages (from pyprep) (1.8.0)\n",
            "Requirement already satisfied: psutil>=5.4.3 in /usr/local/lib/python3.10/dist-packages (from pyprep) (5.9.5)\n",
            "Requirement already satisfied: decorator in /usr/local/lib/python3.10/dist-packages (from mne>=1.3.0->pyprep) (4.4.2)\n",
            "Requirement already satisfied: jinja2 in /usr/local/lib/python3.10/dist-packages (from mne>=1.3.0->pyprep) (3.1.4)\n",
            "Requirement already satisfied: lazy-loader>=0.3 in /usr/local/lib/python3.10/dist-packages (from mne>=1.3.0->pyprep) (0.4)\n",
            "Requirement already satisfied: matplotlib>=3.6 in /usr/local/lib/python3.10/dist-packages (from mne>=1.3.0->pyprep) (3.7.1)\n",
            "Requirement already satisfied: packaging in /usr/local/lib/python3.10/dist-packages (from mne>=1.3.0->pyprep) (24.1)\n",
            "Requirement already satisfied: pooch>=1.5 in /usr/local/lib/python3.10/dist-packages (from mne>=1.3.0->pyprep) (1.8.2)\n",
            "Requirement already satisfied: tqdm in /usr/local/lib/python3.10/dist-packages (from mne>=1.3.0->pyprep) (4.66.5)\n",
            "Requirement already satisfied: contourpy>=1.0.1 in /usr/local/lib/python3.10/dist-packages (from matplotlib>=3.6->mne>=1.3.0->pyprep) (1.3.0)\n",
            "Requirement already satisfied: cycler>=0.10 in /usr/local/lib/python3.10/dist-packages (from matplotlib>=3.6->mne>=1.3.0->pyprep) (0.12.1)\n",
            "Requirement already satisfied: fonttools>=4.22.0 in /usr/local/lib/python3.10/dist-packages (from matplotlib>=3.6->mne>=1.3.0->pyprep) (4.54.1)\n",
            "Requirement already satisfied: kiwisolver>=1.0.1 in /usr/local/lib/python3.10/dist-packages (from matplotlib>=3.6->mne>=1.3.0->pyprep) (1.4.7)\n",
            "Requirement already satisfied: pillow>=6.2.0 in /usr/local/lib/python3.10/dist-packages (from matplotlib>=3.6->mne>=1.3.0->pyprep) (10.4.0)\n",
            "Requirement already satisfied: pyparsing>=2.3.1 in /usr/local/lib/python3.10/dist-packages (from matplotlib>=3.6->mne>=1.3.0->pyprep) (3.2.0)\n",
            "Requirement already satisfied: python-dateutil>=2.7 in /usr/local/lib/python3.10/dist-packages (from matplotlib>=3.6->mne>=1.3.0->pyprep) (2.8.2)\n",
            "Requirement already satisfied: platformdirs>=2.5.0 in /usr/local/lib/python3.10/dist-packages (from pooch>=1.5->mne>=1.3.0->pyprep) (4.3.6)\n",
            "Requirement already satisfied: requests>=2.19.0 in /usr/local/lib/python3.10/dist-packages (from pooch>=1.5->mne>=1.3.0->pyprep) (2.32.3)\n",
            "Requirement already satisfied: MarkupSafe>=2.0 in /usr/local/lib/python3.10/dist-packages (from jinja2->mne>=1.3.0->pyprep) (3.0.2)\n",
            "Requirement already satisfied: six>=1.5 in /usr/local/lib/python3.10/dist-packages (from python-dateutil>=2.7->matplotlib>=3.6->mne>=1.3.0->pyprep) (1.16.0)\n",
            "Requirement already satisfied: charset-normalizer<4,>=2 in /usr/local/lib/python3.10/dist-packages (from requests>=2.19.0->pooch>=1.5->mne>=1.3.0->pyprep) (3.4.0)\n",
            "Requirement already satisfied: idna<4,>=2.5 in /usr/local/lib/python3.10/dist-packages (from requests>=2.19.0->pooch>=1.5->mne>=1.3.0->pyprep) (3.10)\n",
            "Requirement already satisfied: urllib3<3,>=1.21.1 in /usr/local/lib/python3.10/dist-packages (from requests>=2.19.0->pooch>=1.5->mne>=1.3.0->pyprep) (2.2.3)\n",
            "Requirement already satisfied: certifi>=2017.4.17 in /usr/local/lib/python3.10/dist-packages (from requests>=2.19.0->pooch>=1.5->mne>=1.3.0->pyprep) (2024.8.30)\n",
            "Current channel names: ['Fp1-A1+A2', 'Fp2-A1+A2', 'F3-A1+A2', 'F4-A1+A2', 'Fz-A1+A2', 'F7-A1+A2', 'F8-A1+A2', 'C3-A1+A2', 'C4-A1+A2', 'Cz-A1+A2', 'P3-A1+A2', 'P4-A1+A2', 'Pz-A1+A2', 'T3-A1+A2', 'T4-A1+A2', 'T5-A1+A2', 'T6-A1+A2', 'O1-A1+A2', 'O2-A1+A2']\n",
            "NOTE: pick_channels() is a legacy function. New code should use inst.pick(...).\n",
            "NOTE: pick_types() is a legacy function. New code should use inst.pick(...).\n",
            "Setting up high-pass filter at 1 Hz\n",
            "\n",
            "FIR filter parameters\n",
            "---------------------\n",
            "Designing a one-pass, zero-phase, non-causal highpass filter:\n",
            "- Windowed time-domain design (firwin) method\n",
            "- Hamming window with 0.0194 passband ripple and 53 dB stopband attenuation\n",
            "- Lower passband edge: 1.00\n",
            "- Lower transition bandwidth: 1.00 Hz (-6 dB cutoff frequency: 0.50 Hz)\n",
            "- Filter length: 845 samples (3.301 s)\n",
            "\n",
            "Setting up high-pass filter at 1 Hz\n",
            "\n",
            "FIR filter parameters\n",
            "---------------------\n",
            "Designing a one-pass, zero-phase, non-causal highpass filter:\n",
            "- Windowed time-domain design (firwin) method\n",
            "- Hamming window with 0.0194 passband ripple and 53 dB stopband attenuation\n",
            "- Lower passband edge: 1.00\n",
            "- Lower transition bandwidth: 1.00 Hz (-6 dB cutoff frequency: 0.50 Hz)\n",
            "- Filter length: 845 samples (3.301 s)\n",
            "\n"
          ]
        },
        {
          "output_type": "stream",
          "name": "stderr",
          "text": [
            "[Parallel(n_jobs=1)]: Done  17 tasks      | elapsed:    0.1s\n",
            "[Parallel(n_jobs=1)]: Done  17 tasks      | elapsed:    0.1s\n"
          ]
        },
        {
          "output_type": "stream",
          "name": "stdout",
          "text": [
            "Removed notch frequencies (Hz):\n",
            "     50.00 : 1292 windows\n",
            "NOTE: pick_types() is a legacy function. New code should use inst.pick(...).\n",
            "Setting up high-pass filter at 1 Hz\n",
            "\n",
            "FIR filter parameters\n",
            "---------------------\n",
            "Designing a one-pass, zero-phase, non-causal highpass filter:\n",
            "- Windowed time-domain design (firwin) method\n",
            "- Hamming window with 0.0194 passband ripple and 53 dB stopband attenuation\n",
            "- Lower passband edge: 1.00\n",
            "- Lower transition bandwidth: 1.00 Hz (-6 dB cutoff frequency: 0.50 Hz)\n",
            "- Filter length: 845 samples (3.301 s)\n",
            "\n",
            "NOTE: pick_types() is a legacy function. New code should use inst.pick(...).\n"
          ]
        },
        {
          "output_type": "stream",
          "name": "stderr",
          "text": [
            "[Parallel(n_jobs=1)]: Done  17 tasks      | elapsed:    0.1s\n"
          ]
        },
        {
          "output_type": "stream",
          "name": "stdout",
          "text": [
            "Executing RANSAC\n",
            "This may take a while, so be patient...\n"
          ]
        },
        {
          "output_type": "display_data",
          "data": {
            "text/plain": [
              "  0%|          |  : 0/69 [00:00<?,       ?it/s]"
            ],
            "application/vnd.jupyter.widget-view+json": {
              "version_major": 2,
              "version_minor": 0,
              "model_id": "e81f29791727462cb4cf44ac7a004343"
            }
          },
          "metadata": {}
        }
      ],
      "source": [
        "!pip install pyprep\n",
        "from pyprep.prep_pipeline import PrepPipeline\n",
        "import mne\n",
        "\n",
        "\n",
        "# Print the current channel names\n",
        "print(\"Current channel names:\", raw.ch_names)\n",
        "# Define a mapping from your channel names to the standard montage\n",
        "channel_mapping = {\n",
        "    'Fp1-A1+A2': 'Fp1',\n",
        "    'Fp2-A1+A2': 'Fp2',\n",
        "    'F3-A1+A2': 'F3',\n",
        "    'F4-A1+A2': 'F4',\n",
        "    'Fz-A1+A2': 'Fz',\n",
        "    'F7-A1+A2': 'F7',\n",
        "    'F8-A1+A2': 'F8',\n",
        "    'C3-A1+A2': 'C3',\n",
        "    'C4-A1+A2': 'C4',\n",
        "    'Cz-A1+A2': 'Cz',\n",
        "    'P3-A1+A2': 'P3',\n",
        "    'P4-A1+A2': 'P4',\n",
        "    'Pz-A1+A2': 'Pz',\n",
        "    'T3-A1+A2': 'T3',\n",
        "    'T4-A1+A2': 'T4',\n",
        "    'T5-A1+A2': 'T5',\n",
        "    'T6-A1+A2': 'T6',\n",
        "    'O1-A1+A2': 'O1',\n",
        "    'O2-A1+A2': 'O2',\n",
        "    # Include any other mappings if necessary\n",
        "}\n",
        "\n",
        "# Rename the channels in the raw object\n",
        "raw.rename_channels(channel_mapping)\n",
        "\n",
        "# Load a standard montage (e.g., the 10-20 system)\n",
        "montage = mne.channels.make_standard_montage('standard_1020')\n",
        "\n",
        "# Set the montage to the raw object\n",
        "raw.set_montage(montage)\n",
        "\n",
        "# Define preprocessing parameters for the pipeline\n",
        "prep_params = {\n",
        "    'do_detrend': True,\n",
        "    'detrend_cutoff': 0.5,\n",
        "    'asr': {\n",
        "        'threshold': 3.0,  # ASR threshold for detecting bad channels\n",
        "    },\n",
        "    'ref_chs': raw.ch_names,  # Set reference channels to all available channels\n",
        "    'reref_chs': [],  # Specify channels to re-reference if needed\n",
        "    'line_freqs': [50]  # Specify the line frequency for notch filtering (50 Hz)\n",
        "}\n",
        "\n",
        "# Initialize the PREP pipeline\n",
        "prep = PrepPipeline(raw, montage=montage, prep_params=prep_params)\n",
        "\n",
        "# Fit the pipeline\n",
        "try:\n",
        "    prep.fit()  # This line may raise errors if there are issues\n",
        "except Exception as e:\n",
        "    print(\"Error during fitting:\", e)\n",
        "\n",
        "# Check for bad channels directly from the raw object\n",
        "bad_channels = raw.info['bads']\n",
        "print(\"Bad channels detected by ASR:\", bad_channels)\n",
        "\n",
        "# If you want to mark them in the raw object\n",
        "raw.info['bads'] = bad_channels\n",
        "\n",
        "# Interpolate bad channels using data from surrounding electrodes\n",
        "# raw.interpolate_bads()\n",
        "\n",
        "# Optionally save the cleaned raw object\n",
        "# raw.save('cleaned_eeg.fif', overwrite=True)\n"
      ]
    },
    {
      "cell_type": "markdown",
      "metadata": {
        "id": "u93oiTdd8Ogj"
      },
      "source": [
        "### 2. Downsampling"
      ]
    },
    {
      "cell_type": "code",
      "execution_count": null,
      "metadata": {
        "id": "_8AaqiXq8Ogj"
      },
      "outputs": [],
      "source": [
        "raw.resample(256, npad=\"auto\")    # set sampling frequency to 256 points per second"
      ]
    },
    {
      "cell_type": "markdown",
      "metadata": {
        "id": "AtixoAFJ8Ogj"
      },
      "source": [
        ">according to the Nyquist frequency, sampling rate should be at least two times of frequency.\n",
        "Moreover, 128 points are suitable and 256 points are desirable\n"
      ]
    },
    {
      "cell_type": "markdown",
      "metadata": {
        "id": "08km9IHn8Ogk"
      },
      "source": [
        "### 3. Filtering the data"
      ]
    },
    {
      "cell_type": "code",
      "execution_count": null,
      "metadata": {
        "id": "aCrdNWr-8Ogk"
      },
      "outputs": [],
      "source": [
        "# Apply band-pass filter from 0.5 to 80 Hz\n",
        "raw.filter(l_freq=0.5, h_freq=80.0, fir_design='firwin')\n",
        "\n",
        "# Apply notch filter at 50 Hz\n",
        "raw.notch_filter(freqs=50, fir_design='firwin')\n"
      ]
    },
    {
      "cell_type": "markdown",
      "metadata": {
        "id": "ZMN0kZ108Ogk"
      },
      "source": [
        ">Lw-pass filter with 1 Hz cutoff frequency for removing low-frequency drifts.\n",
        "    High-pass filter with 30 Hz cutoff frequency for deteriorating the effect of\n",
        "    the AC power line frequency, cell phones, the geomagnetic field and so forth.\n",
        "    Therefore, a band-pass filter was used in the range 1Hz-30Hz with one step.\n",
        "    You can apply another band pass filter due to your own assumtions and hypotheses.\n",
        "    I recommend that band pass filtering would be better to occurr before the EEG\n",
        "    data epoching and artifact removal with ICA."
      ]
    },
    {
      "cell_type": "markdown",
      "metadata": {
        "id": "Scze4Ebq8Ogl"
      },
      "source": [
        "### 5. Visual Inspection"
      ]
    },
    {
      "cell_type": "markdown",
      "metadata": {
        "id": "r2ldRvW08Ogl"
      },
      "source": [
        "###### 5.1 Plot continuous data"
      ]
    },
    {
      "cell_type": "code",
      "execution_count": null,
      "metadata": {
        "id": "ldl2fxsl8Ogl"
      },
      "outputs": [],
      "source": [
        "raw.plot()"
      ]
    },
    {
      "cell_type": "markdown",
      "metadata": {
        "id": "RUyuSPmja8J9"
      },
      "source": [
        "###### Remove bad channels: Have some problems"
      ]
    },
    {
      "cell_type": "code",
      "execution_count": null,
      "metadata": {
        "id": "KKJp-bUsa71N"
      },
      "outputs": [],
      "source": [
        "# import mne\n",
        "# from autoreject import AutoReject\n",
        "\n",
        "# # Create a standard montage\n",
        "# montage = mne.channels.make_standard_montage('standard_1020')\n",
        "\n",
        "# # Rename channels in raw to match montage names if needed\n",
        "# # This example assumes you have A1 and A2 suffixes; customize as needed\n",
        "# raw.rename_channels(lambda x: x.replace('-A1', '').replace('-A2', ''))\n",
        "\n",
        "# # Set the montage to the raw data\n",
        "# raw.set_montage(montage, on_missing='ignore')\n",
        "\n",
        "# # Ensure channel positions are valid after setting the montage\n",
        "# if raw.info['dig'] is None or len(raw.info['dig']) == 0:\n",
        "#     raise RuntimeError(\"No valid channel positions found. Check montage setting.\")\n",
        "\n",
        "# # Initialize AutoReject\n",
        "# ar = AutoReject(n_interpolate=[1, 4, 8], consensus=[0.6, 0.7, 0.8], picks='eeg', verbose='tqdm')\n",
        "\n",
        "# # Create fixed-length epochs\n",
        "# epochs = mne.make_fixed_length_epochs(raw, duration=2.0, preload=True)\n",
        "\n",
        "# # Apply AutoReject to find bad channels and reject or interpolate them\n",
        "# epochs_clean, reject_log = ar.fit_transform(epochs, return_log=True)\n",
        "\n",
        "# # Get bad channels detected by AutoReject\n",
        "# bad_channels = reject_log.bad_channels\n",
        "\n",
        "# # Limit to 3 bad channels (if more than 3 are detected)\n",
        "# if len(bad_channels) > 3:\n",
        "#     bad_channels = bad_channels[:3]\n",
        "\n",
        "# # Drop the bad channels from the raw data\n",
        "# raw.drop_channels(bad_channels)\n",
        "\n",
        "# print(f\"Bad channels detected and removed: {bad_channels}\")\n"
      ]
    },
    {
      "cell_type": "markdown",
      "metadata": {
        "id": "9JGBqfuaixtE"
      },
      "source": [
        "###### Mine 1: Peak-to-Peak Amplitude Rejection"
      ]
    },
    {
      "cell_type": "code",
      "execution_count": null,
      "metadata": {
        "id": "9aPVccI-jNvz"
      },
      "outputs": [],
      "source": [
        "# Create fixed-length epochs\n",
        "epochs = mne.make_fixed_length_epochs(raw, duration=2.0, preload=True)\n",
        "\n",
        "# Define rejection thresholds (values in microvolts)\n",
        "reject_criteria = dict(eeg=100e-6)\n",
        "\n",
        "# Drop bad epochs based on the rejection criteria\n",
        "epochs.drop_bad(reject=reject_criteria)\n",
        "\n",
        "epochs.plot()\n"
      ]
    },
    {
      "cell_type": "markdown",
      "metadata": {
        "id": "nFvOA292jzgM"
      },
      "source": [
        "###### Mine 2: Frequency-Based Rejection (Power Spectrum)"
      ]
    },
    {
      "cell_type": "code",
      "execution_count": null,
      "metadata": {
        "id": "cuQ3Xgupj5gf"
      },
      "outputs": [],
      "source": [
        "# # Compute the Power Spectral Density (PSD) directly from the raw object\n",
        "# psds = raw.compute_psd(fmin=0.5, fmax=45)\n",
        "# freqs = psds.freqs\n",
        "\n",
        "# # Optional: Plot the PSD\n",
        "# psds.plot()\n"
      ]
    },
    {
      "cell_type": "markdown",
      "metadata": {
        "id": "6wTWANm3kbzD"
      },
      "source": [
        "###### mine 4: Signal Discontinuities and Abrupt Jumps"
      ]
    },
    {
      "cell_type": "code",
      "execution_count": null,
      "metadata": {
        "id": "BDOGhZmbk_Ez"
      },
      "outputs": [],
      "source": [
        "import mne\n",
        "import numpy as np\n",
        "\n",
        "# raw = mne.io.read_raw_edf(edf_file, preload=True)\n",
        "\n",
        "# Threshold for detecting abrupt jumps (customize as needed)\n",
        "threshold = 100e-6\n",
        "\n",
        "# Find discontinuities by calculating the difference between consecutive samples\n",
        "signal_diff = np.abs(np.diff(raw.get_data()))\n",
        "\n",
        "# Create a boolean mask for abrupt jumps exceeding the threshold\n",
        "abrupt_jumps = np.any(signal_diff > threshold, axis=0)\n",
        "\n",
        "# Get the indices of the abrupt changes\n",
        "jump_indices = np.where(abrupt_jumps)[0]\n",
        "\n",
        "# Create lists to store the onset and duration of annotations\n",
        "onsets = []\n",
        "durations = []\n",
        "\n",
        "# Create annotations for these segments\n",
        "for idx in jump_indices:\n",
        "    start = max(0, idx - 1)  # Adjust for segment length (1 second in this example)\n",
        "    end = min(raw.n_times, idx + 1)\n",
        "    onsets.append(start / raw.info['sfreq'])  # onset in seconds\n",
        "    durations.append((end - start) / raw.info['sfreq'])  # duration in seconds\n",
        "\n",
        "# Convert to numpy arrays\n",
        "onsets_array = np.array(onsets)\n",
        "durations_array = np.array(durations)\n",
        "\n",
        "# Create Annotations object using the correct constructor\n",
        "annotations = mne.Annotations(onsets_array, durations_array, ['Jump'] * len(onsets_array))\n",
        "\n",
        "# Add the annotations to the raw object\n",
        "raw.set_annotations(annotations)\n",
        "\n",
        "# Plot the raw data with annotations\n",
        "raw.plot()\n",
        "\n",
        "# Review the annotations\n",
        "print(raw.annotations)\n"
      ]
    },
    {
      "cell_type": "code",
      "execution_count": null,
      "metadata": {
        "id": "cWgaguCEiAdS"
      },
      "outputs": [],
      "source": [
        "# Create fixed-length epochs (e.g., 2 seconds) without rejection initially\n",
        "epochs = mne.make_fixed_length_epochs(raw, duration=2.0, preload=True)\n",
        "\n",
        "# Define the rejection criteria\n",
        "reject_criteria = dict(eeg=100e-6)  # Adjust threshold as needed\n",
        "\n",
        "# Apply the rejection criteria to drop bad epochs\n",
        "epochs.drop_bad(reject=reject_criteria)\n"
      ]
    },
    {
      "cell_type": "markdown",
      "metadata": {
        "id": "iSOISi1Kf8yd"
      },
      "source": [
        "##### CAR"
      ]
    },
    {
      "cell_type": "code",
      "execution_count": null,
      "metadata": {
        "id": "MN02c-WQf88a"
      },
      "outputs": [],
      "source": [
        "# # Apply Common Average Referencing (CAR)\n",
        "# raw.set_eeg_reference('average', projection=True)\n",
        "\n",
        "# # Create fixed-length epochs after applying CAR\n",
        "# epochs = mne.make_fixed_length_epochs(raw, duration=2.0, preload=True)\n"
      ]
    },
    {
      "cell_type": "markdown",
      "metadata": {
        "id": "NCS67ttMlje9"
      },
      "source": [
        "##### Mine: ICA"
      ]
    },
    {
      "cell_type": "code",
      "execution_count": null,
      "metadata": {
        "id": "upJn_5GVlj6y"
      },
      "outputs": [],
      "source": [
        "# Apply ICA for artifact removal (e.g., eye blinks, muscle artifacts)\n",
        "ica = mne.preprocessing.ICA(n_components=19, random_state=97, max_iter=800)\n",
        "ica.fit(raw)\n",
        "\n",
        "# Automatically detect EOG artifacts (e.g., eye blinks)\n",
        "# eog_inds, eog_scores = ica.find_bads_eog(raw)\n",
        "# ica.exclude = eog_inds  # Mark these components for exclusion\n",
        "\n",
        "# Apply ICA to remove artifacts\n",
        "raw_cleaned = ica.apply(raw)\n"
      ]
    },
    {
      "cell_type": "code",
      "source": [
        "from scipy.io import savemat\n",
        "\n",
        "# Get the data and the channel names\n",
        "data, times = raw_cleaned.get_data(return_times=True)  # EEG data and the corresponding times\n",
        "channel_names = raw_cleaned.ch_names  # Channel names\n",
        "sfreq = raw_cleaned.info['sfreq']  # Sampling frequency\n",
        "\n",
        "# Create a dictionary to save\n",
        "raw_dict = {\n",
        "    'data': data,  # The EEG data\n",
        "    'times': times,  # Time points for the data\n",
        "    'channel_names': channel_names,  # Channel names\n",
        "    'sfreq': sfreq  # Sampling frequency\n",
        "}\n",
        "\n",
        "# Save the dictionary as a .mat file\n",
        "# savemat('IDpz102_W2OC-Cleaned_CAR.mat', raw_dict)\n",
        "savemat('IDpz102_W2OA-Cleaned.mat', raw_dict)\n",
        "\n",
        "print(\"Raw data saved as 'eeg_data.mat'\")\n"
      ],
      "metadata": {
        "id": "0JQZUPbhTDoJ"
      },
      "execution_count": null,
      "outputs": []
    },
    {
      "cell_type": "code",
      "execution_count": null,
      "metadata": {
        "id": "rU87wfpUmB8o"
      },
      "outputs": [],
      "source": [
        "import mne\n",
        "\n",
        "# Define the duration of the epochs in seconds\n",
        "epoch_duration = 2.0  # 2 seconds\n",
        "\n",
        "# Create fixed-length epochs\n",
        "epochs = mne.make_fixed_length_epochs(raw_cleaned, duration=epoch_duration, preload=True)\n",
        "\n",
        "# Optional: Check the number of epochs created\n",
        "print(f\"Number of epochs created: {len(epochs)}\")\n",
        "\n",
        "# Save the epochs to disk\n",
        "# epochs.save('/content/IDpz109_W1OA-epochs-2s.fif', overwrite=True)  # Adjust the file path as needed\n"
      ]
    },
    {
      "cell_type": "code",
      "execution_count": null,
      "metadata": {
        "id": "cx80dwPeB6OX"
      },
      "outputs": [],
      "source": [
        "# # Reload the original EDF file (for ECG channel)\n",
        "# raw_ecg = mne.io.read_raw_edf(edf_file, preload=True)\n",
        "\n",
        "# # Pick the ECG channel only\n",
        "# raw_ecg.pick_channels(['ECG1+'])\n",
        "\n",
        "# # Apply the same filtering and reference as the EEG data\n",
        "# raw_ecg.filter(0.5, 45, fir_design='firwin')  # Apply same band-pass filter\n",
        "# raw_ecg.set_eeg_reference('average', projection=True).apply_proj()  # Apply same referencing\n",
        "\n",
        "# # Now append the ECG channel back to the cleaned raw data\n",
        "# raw_cleaned.add_channels([raw_ecg])\n",
        "\n",
        "# # Continue with your workflow\n"
      ]
    },
    {
      "cell_type": "code",
      "execution_count": null,
      "metadata": {
        "id": "DmxKBF-GmR2i"
      },
      "outputs": [],
      "source": [
        "import numpy as np\n",
        "from scipy.io import savemat\n",
        "\n",
        "# Convert epochs to a NumPy array\n",
        "data_array = epochs.get_data()  # Shape: (n_epochs, n_channels, n_times)\n",
        "\n",
        "# Prepare a dictionary to save as .mat\n",
        "mat_dict = {\n",
        "    'data': data_array,\n",
        "    'times': epochs.times,\n",
        "    'events': epochs.events,\n",
        "    'event_ids': epochs.event_id\n",
        "}\n",
        "\n",
        "# Save the dictionary as a .mat file\n",
        "savemat('/content/IDpz109_W2OA-cleaned.mat', mat_dict)\n"
      ]
    }
  ],
  "metadata": {
    "colab": {
      "provenance": [],
      "gpuType": "T4",
      "include_colab_link": true
    },
    "kernelspec": {
      "display_name": "Python 3",
      "name": "python3"
    },
    "language_info": {
      "codemirror_mode": {
        "name": "ipython",
        "version": 3
      },
      "file_extension": ".py",
      "mimetype": "text/x-python",
      "name": "python",
      "nbconvert_exporter": "python",
      "pygments_lexer": "ipython3",
      "version": "3.7.4"
    },
    "accelerator": "GPU",
    "widgets": {
      "application/vnd.jupyter.widget-state+json": {
        "e81f29791727462cb4cf44ac7a004343": {
          "model_module": "@jupyter-widgets/controls",
          "model_name": "HBoxModel",
          "model_module_version": "1.5.0",
          "state": {
            "_dom_classes": [],
            "_model_module": "@jupyter-widgets/controls",
            "_model_module_version": "1.5.0",
            "_model_name": "HBoxModel",
            "_view_count": null,
            "_view_module": "@jupyter-widgets/controls",
            "_view_module_version": "1.5.0",
            "_view_name": "HBoxView",
            "box_style": "",
            "children": [
              "IPY_MODEL_da31b0ba192f4aa18182b6a78d228e45",
              "IPY_MODEL_ea69dd31212c4486a13f8d75e71b29e1",
              "IPY_MODEL_3c460fdbdc5542fdb27b0de0dc09a0ca"
            ],
            "layout": "IPY_MODEL_6c10ca226007402c828e106c855d1dc4"
          }
        },
        "da31b0ba192f4aa18182b6a78d228e45": {
          "model_module": "@jupyter-widgets/controls",
          "model_name": "HTMLModel",
          "model_module_version": "1.5.0",
          "state": {
            "_dom_classes": [],
            "_model_module": "@jupyter-widgets/controls",
            "_model_module_version": "1.5.0",
            "_model_name": "HTMLModel",
            "_view_count": null,
            "_view_module": "@jupyter-widgets/controls",
            "_view_module_version": "1.5.0",
            "_view_name": "HTMLView",
            "description": "",
            "description_tooltip": null,
            "layout": "IPY_MODEL_a2238e81d0ca419b8c7647ff081966ba",
            "placeholder": "​",
            "style": "IPY_MODEL_77339ec7c65443e5b7b64c9167283241",
            "value": " 74%"
          }
        },
        "ea69dd31212c4486a13f8d75e71b29e1": {
          "model_module": "@jupyter-widgets/controls",
          "model_name": "FloatProgressModel",
          "model_module_version": "1.5.0",
          "state": {
            "_dom_classes": [],
            "_model_module": "@jupyter-widgets/controls",
            "_model_module_version": "1.5.0",
            "_model_name": "FloatProgressModel",
            "_view_count": null,
            "_view_module": "@jupyter-widgets/controls",
            "_view_module_version": "1.5.0",
            "_view_name": "ProgressView",
            "bar_style": "",
            "description": "",
            "description_tooltip": null,
            "layout": "IPY_MODEL_980a334403cd404db28fff90b9f07e7f",
            "max": 69,
            "min": 0,
            "orientation": "horizontal",
            "style": "IPY_MODEL_2d9db30d29064e6aa9c0245d34565db4",
            "value": 51
          }
        },
        "3c460fdbdc5542fdb27b0de0dc09a0ca": {
          "model_module": "@jupyter-widgets/controls",
          "model_name": "HTMLModel",
          "model_module_version": "1.5.0",
          "state": {
            "_dom_classes": [],
            "_model_module": "@jupyter-widgets/controls",
            "_model_module_version": "1.5.0",
            "_model_name": "HTMLModel",
            "_view_count": null,
            "_view_module": "@jupyter-widgets/controls",
            "_view_module_version": "1.5.0",
            "_view_name": "HTMLView",
            "description": "",
            "description_tooltip": null,
            "layout": "IPY_MODEL_f226912c733a4e559ea31961b185fee5",
            "placeholder": "​",
            "style": "IPY_MODEL_8026b333fce74234a9db8fed681b6e55",
            "value": "  : 51/69 [00:05&lt;00:02,    8.36it/s]"
          }
        },
        "6c10ca226007402c828e106c855d1dc4": {
          "model_module": "@jupyter-widgets/base",
          "model_name": "LayoutModel",
          "model_module_version": "1.2.0",
          "state": {
            "_model_module": "@jupyter-widgets/base",
            "_model_module_version": "1.2.0",
            "_model_name": "LayoutModel",
            "_view_count": null,
            "_view_module": "@jupyter-widgets/base",
            "_view_module_version": "1.2.0",
            "_view_name": "LayoutView",
            "align_content": null,
            "align_items": null,
            "align_self": null,
            "border": null,
            "bottom": null,
            "display": null,
            "flex": null,
            "flex_flow": null,
            "grid_area": null,
            "grid_auto_columns": null,
            "grid_auto_flow": null,
            "grid_auto_rows": null,
            "grid_column": null,
            "grid_gap": null,
            "grid_row": null,
            "grid_template_areas": null,
            "grid_template_columns": null,
            "grid_template_rows": null,
            "height": null,
            "justify_content": null,
            "justify_items": null,
            "left": null,
            "margin": null,
            "max_height": null,
            "max_width": null,
            "min_height": null,
            "min_width": null,
            "object_fit": null,
            "object_position": null,
            "order": null,
            "overflow": null,
            "overflow_x": null,
            "overflow_y": null,
            "padding": null,
            "right": null,
            "top": null,
            "visibility": null,
            "width": null
          }
        },
        "a2238e81d0ca419b8c7647ff081966ba": {
          "model_module": "@jupyter-widgets/base",
          "model_name": "LayoutModel",
          "model_module_version": "1.2.0",
          "state": {
            "_model_module": "@jupyter-widgets/base",
            "_model_module_version": "1.2.0",
            "_model_name": "LayoutModel",
            "_view_count": null,
            "_view_module": "@jupyter-widgets/base",
            "_view_module_version": "1.2.0",
            "_view_name": "LayoutView",
            "align_content": null,
            "align_items": null,
            "align_self": null,
            "border": null,
            "bottom": null,
            "display": null,
            "flex": null,
            "flex_flow": null,
            "grid_area": null,
            "grid_auto_columns": null,
            "grid_auto_flow": null,
            "grid_auto_rows": null,
            "grid_column": null,
            "grid_gap": null,
            "grid_row": null,
            "grid_template_areas": null,
            "grid_template_columns": null,
            "grid_template_rows": null,
            "height": null,
            "justify_content": null,
            "justify_items": null,
            "left": null,
            "margin": null,
            "max_height": null,
            "max_width": null,
            "min_height": null,
            "min_width": null,
            "object_fit": null,
            "object_position": null,
            "order": null,
            "overflow": null,
            "overflow_x": null,
            "overflow_y": null,
            "padding": null,
            "right": null,
            "top": null,
            "visibility": null,
            "width": null
          }
        },
        "77339ec7c65443e5b7b64c9167283241": {
          "model_module": "@jupyter-widgets/controls",
          "model_name": "DescriptionStyleModel",
          "model_module_version": "1.5.0",
          "state": {
            "_model_module": "@jupyter-widgets/controls",
            "_model_module_version": "1.5.0",
            "_model_name": "DescriptionStyleModel",
            "_view_count": null,
            "_view_module": "@jupyter-widgets/base",
            "_view_module_version": "1.2.0",
            "_view_name": "StyleView",
            "description_width": ""
          }
        },
        "980a334403cd404db28fff90b9f07e7f": {
          "model_module": "@jupyter-widgets/base",
          "model_name": "LayoutModel",
          "model_module_version": "1.2.0",
          "state": {
            "_model_module": "@jupyter-widgets/base",
            "_model_module_version": "1.2.0",
            "_model_name": "LayoutModel",
            "_view_count": null,
            "_view_module": "@jupyter-widgets/base",
            "_view_module_version": "1.2.0",
            "_view_name": "LayoutView",
            "align_content": null,
            "align_items": null,
            "align_self": null,
            "border": null,
            "bottom": null,
            "display": null,
            "flex": null,
            "flex_flow": null,
            "grid_area": null,
            "grid_auto_columns": null,
            "grid_auto_flow": null,
            "grid_auto_rows": null,
            "grid_column": null,
            "grid_gap": null,
            "grid_row": null,
            "grid_template_areas": null,
            "grid_template_columns": null,
            "grid_template_rows": null,
            "height": null,
            "justify_content": null,
            "justify_items": null,
            "left": null,
            "margin": null,
            "max_height": null,
            "max_width": null,
            "min_height": null,
            "min_width": null,
            "object_fit": null,
            "object_position": null,
            "order": null,
            "overflow": null,
            "overflow_x": null,
            "overflow_y": null,
            "padding": null,
            "right": null,
            "top": null,
            "visibility": null,
            "width": null
          }
        },
        "2d9db30d29064e6aa9c0245d34565db4": {
          "model_module": "@jupyter-widgets/controls",
          "model_name": "ProgressStyleModel",
          "model_module_version": "1.5.0",
          "state": {
            "_model_module": "@jupyter-widgets/controls",
            "_model_module_version": "1.5.0",
            "_model_name": "ProgressStyleModel",
            "_view_count": null,
            "_view_module": "@jupyter-widgets/base",
            "_view_module_version": "1.2.0",
            "_view_name": "StyleView",
            "bar_color": null,
            "description_width": ""
          }
        },
        "f226912c733a4e559ea31961b185fee5": {
          "model_module": "@jupyter-widgets/base",
          "model_name": "LayoutModel",
          "model_module_version": "1.2.0",
          "state": {
            "_model_module": "@jupyter-widgets/base",
            "_model_module_version": "1.2.0",
            "_model_name": "LayoutModel",
            "_view_count": null,
            "_view_module": "@jupyter-widgets/base",
            "_view_module_version": "1.2.0",
            "_view_name": "LayoutView",
            "align_content": null,
            "align_items": null,
            "align_self": null,
            "border": null,
            "bottom": null,
            "display": null,
            "flex": null,
            "flex_flow": null,
            "grid_area": null,
            "grid_auto_columns": null,
            "grid_auto_flow": null,
            "grid_auto_rows": null,
            "grid_column": null,
            "grid_gap": null,
            "grid_row": null,
            "grid_template_areas": null,
            "grid_template_columns": null,
            "grid_template_rows": null,
            "height": null,
            "justify_content": null,
            "justify_items": null,
            "left": null,
            "margin": null,
            "max_height": null,
            "max_width": null,
            "min_height": null,
            "min_width": null,
            "object_fit": null,
            "object_position": null,
            "order": null,
            "overflow": null,
            "overflow_x": null,
            "overflow_y": null,
            "padding": null,
            "right": null,
            "top": null,
            "visibility": null,
            "width": null
          }
        },
        "8026b333fce74234a9db8fed681b6e55": {
          "model_module": "@jupyter-widgets/controls",
          "model_name": "DescriptionStyleModel",
          "model_module_version": "1.5.0",
          "state": {
            "_model_module": "@jupyter-widgets/controls",
            "_model_module_version": "1.5.0",
            "_model_name": "DescriptionStyleModel",
            "_view_count": null,
            "_view_module": "@jupyter-widgets/base",
            "_view_module_version": "1.2.0",
            "_view_name": "StyleView",
            "description_width": ""
          }
        }
      }
    }
  },
  "nbformat": 4,
  "nbformat_minor": 0
}